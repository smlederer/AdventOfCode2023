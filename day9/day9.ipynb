{
 "cells": [
  {
   "cell_type": "code",
   "execution_count": 2,
   "metadata": {},
   "outputs": [],
   "source": [
    "import sys\n",
    "import os\n",
    "\n",
    "__file__ = 'helper_funcs.py'\n",
    "file_path = os.path.abspath(os.path.join(os.path.dirname( __file__ ), '..'))\n",
    "sys.path.append(file_path)\n",
    "\n",
    "import helper_funcs as hf\n"
   ]
  },
  {
   "cell_type": "code",
   "execution_count": 3,
   "metadata": {},
   "outputs": [
    {
     "data": {
      "text/plain": [
       "[[0, 3, 6, 9, 12, 15], [1, 3, 6, 10, 15, 21], [10, 13, 16, 21, 30, 45]]"
      ]
     },
     "execution_count": 3,
     "metadata": {},
     "output_type": "execute_result"
    }
   ],
   "source": [
    "raw_input = '''0 3 6 9 12 15\n",
    "1 3 6 10 15 21\n",
    "10 13 16 21 30 45\n",
    "'''\n",
    "\n",
    "mod_input = hf.modify_raw(raw_input)\n",
    "\n",
    "final = []\n",
    "for i in mod_input:\n",
    "    final.append([int(j) for j in i.split(' ')])\n",
    "\n",
    "\n",
    "final"
   ]
  },
  {
   "cell_type": "code",
   "execution_count": 4,
   "metadata": {},
   "outputs": [
    {
     "data": {
      "text/plain": [
       "[0, 0, 0, 0]"
      ]
     },
     "execution_count": 4,
     "metadata": {},
     "output_type": "execute_result"
    }
   ],
   "source": [
    "def der(num_list:list)->list:\n",
    "    new_list = []\n",
    "    for i in range(len(num_list)-1):\n",
    "        new_list.append(num_list[i+1]-num_list[i])\n",
    "\n",
    "    return new_list\n",
    "\n",
    "\n",
    "der(der(final[0]))"
   ]
  },
  {
   "cell_type": "code",
   "execution_count": 5,
   "metadata": {},
   "outputs": [
    {
     "data": {
      "text/plain": [
       "1696140818"
      ]
     },
     "execution_count": 5,
     "metadata": {},
     "output_type": "execute_result"
    }
   ],
   "source": [
    "# raw_input = '''0 3 6 9 12 15\n",
    "# 1 3 6 10 15 21\n",
    "# 10 13 16 21 30 45\n",
    "# '''\n",
    "\n",
    "raw_input = hf.read_file('input.txt')\n",
    "\n",
    "\n",
    "mod_input = hf.modify_raw(raw_input)\n",
    "\n",
    "final = []\n",
    "for i in mod_input:\n",
    "    final.append([int(j) for j in i.split(' ')])\n",
    "\n",
    "\n",
    "def find_history(num_list:list,verbose:bool=False)->int:\n",
    "    der_check = False\n",
    "    it = 0\n",
    "    problem_dict = {}\n",
    "    num_list_input = num_list\n",
    "    problem_dict.setdefault(it,num_list_input)\n",
    "\n",
    "    while not der_check:\n",
    "        it+=1\n",
    "        num_list_input = der(num_list_input)\n",
    "        problem_dict.setdefault(it,num_list_input)\n",
    "        der_check = all(v == 0 for v in num_list_input)\n",
    "\n",
    "\n",
    "    for i in range(len(problem_dict)-1,0,-1):\n",
    "        value = problem_dict[i][-1] + problem_dict[i-1][-1] \n",
    "        problem_dict[i-1].append(value)\n",
    "    if verbose == True:\n",
    "        return problem_dict\n",
    "    return problem_dict[0][-1]\n",
    "\n",
    "\n",
    "total = 0\n",
    "for i in final:\n",
    "    add = find_history(i)\n",
    "    total+= add\n",
    "    \n",
    "total\n",
    "\n",
    "#too low: \n",
    "# 1664131384\n",
    "# 1321992787"
   ]
  },
  {
   "cell_type": "code",
   "execution_count": 7,
   "metadata": {},
   "outputs": [
    {
     "data": {
      "text/plain": [
       "1152"
      ]
     },
     "execution_count": 7,
     "metadata": {},
     "output_type": "execute_result"
    }
   ],
   "source": [
    "#part_2\n",
    "\n",
    "# raw_input = '''0 3 6 9 12 15\n",
    "# 1 3 6 10 15 21\n",
    "# 10 13 16 21 30 45\n",
    "# '''\n",
    "\n",
    "raw_input = hf.read_file('input.txt')\n",
    "\n",
    "\n",
    "mod_input = hf.modify_raw(raw_input)\n",
    "\n",
    "final = []\n",
    "for i in mod_input:\n",
    "    final.append([int(j) for j in i.split(' ')])\n",
    "\n",
    "\n",
    "def find_history_rev(num_list:list,verbose:bool=False)->int:\n",
    "    der_check = False\n",
    "    it = 0\n",
    "    problem_dict = {}\n",
    "    num_list_input = num_list\n",
    "    problem_dict.setdefault(it,num_list_input)\n",
    "\n",
    "    while not der_check:\n",
    "        it+=1\n",
    "        num_list_input = der(num_list_input)\n",
    "        problem_dict.setdefault(it,num_list_input)\n",
    "        der_check = all(v == 0 for v in num_list_input)\n",
    "\n",
    "\n",
    "    for i in range(len(problem_dict)-1,0,-1):\n",
    "        value = problem_dict[i-1][0] - problem_dict[i][0]\n",
    "        problem_dict[i-1].insert(0,value)\n",
    "    if verbose == True:\n",
    "        return problem_dict\n",
    "    return problem_dict[0][0]\n",
    "\n",
    "\n",
    "total = 0\n",
    "for i in final:\n",
    "    add = find_history_rev(i)\n",
    "    total+= add\n",
    "    \n",
    "total\n",
    "\n",
    "#too low: \n",
    "# 1664131384\n",
    "# 1321992787"
   ]
  },
  {
   "cell_type": "code",
   "execution_count": 79,
   "metadata": {},
   "outputs": [
    {
     "data": {
      "text/plain": [
       "{0: [5, 10, 13, 16, 21, 30, 45],\n",
       " 1: [5, 3, 3, 5, 9, 15],\n",
       " 2: [-2, 0, 2, 4, 6],\n",
       " 3: [2, 2, 2, 2],\n",
       " 4: [0, 0]}"
      ]
     },
     "execution_count": 79,
     "metadata": {},
     "output_type": "execute_result"
    }
   ],
   "source": [
    "find_history_rev([10, 13, 16, 21, 30, 45],verbose=True)"
   ]
  }
 ],
 "metadata": {
  "kernelspec": {
   "display_name": "probenv",
   "language": "python",
   "name": "python3"
  },
  "language_info": {
   "codemirror_mode": {
    "name": "ipython",
    "version": 3
   },
   "file_extension": ".py",
   "mimetype": "text/x-python",
   "name": "python",
   "nbconvert_exporter": "python",
   "pygments_lexer": "ipython3",
   "version": "3.11.3"
  }
 },
 "nbformat": 4,
 "nbformat_minor": 2
}
