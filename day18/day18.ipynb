{
 "cells": [
  {
   "cell_type": "code",
   "execution_count": 1,
   "metadata": {},
   "outputs": [],
   "source": [
    "import sys\n",
    "import os\n",
    "\n",
    "__file__ = 'helper_funcs.py'\n",
    "file_path = os.path.abspath(os.path.join(os.path.dirname( __file__ ), '..'))\n",
    "sys.path.append(file_path)\n",
    "\n",
    "import helper_funcs as hf\n"
   ]
  },
  {
   "cell_type": "code",
   "execution_count": 2,
   "metadata": {},
   "outputs": [],
   "source": [
    "# raw_input = '''R 6 (#70c710)\n",
    "# D 5 (#0dc571)\n",
    "# L 2 (#5713f0)\n",
    "# D 2 (#d2c081)\n",
    "# R 2 (#59c680)\n",
    "# D 2 (#411b91)\n",
    "# L 5 (#8ceee2)\n",
    "# U 2 (#caa173)\n",
    "# L 1 (#1b58a2)\n",
    "# U 2 (#caa171)\n",
    "# R 2 (#7807d2)\n",
    "# U 3 (#a77fa3)\n",
    "# L 2 (#015232)\n",
    "# U 2 (#7a21e3)'''\n",
    "\n",
    "raw_input = hf.read_file('input.txt')\n",
    "\n",
    "mod_input = hf.modify_raw(raw_input)\n",
    "\n",
    "final_input = {}\n",
    "for i in range(len(mod_input)):\n",
    "    x = mod_input[i].split(' ')\n",
    "    final_input.setdefault(i,{'dir':x[0],'len':x[1],'color':x[2]})\n"
   ]
  },
  {
   "cell_type": "code",
   "execution_count": 3,
   "metadata": {},
   "outputs": [
    {
     "data": {
      "text/plain": [
       "42317.0"
      ]
     },
     "execution_count": 3,
     "metadata": {},
     "output_type": "execute_result"
    }
   ],
   "source": [
    "dir_dict = {'R':[1,0],'D':[0,1],'L':[-1,0],'U':[0,-1]} \n",
    "\n",
    "start = [1,1]\n",
    "area = 0\n",
    "max_area = 0\n",
    "points = [start]\n",
    "last = start\n",
    "\n",
    "for i in list(final_input.values()):\n",
    "    direction = i['dir']\n",
    "    length = int(i['len'])\n",
    "    last = hf.vector_op(last,hf.vector_scale(dir_dict[direction],length),'+')\n",
    "    points.append(last)\n",
    "\n",
    "\n",
    "\n",
    "def shoelace(points:list)->int:\n",
    "    boarder = 0\n",
    "    coords = points[-1:0:-1]+[points[0]]\n",
    "    tot = 0\n",
    "    for i in range(len(coords)-1):\n",
    "        boarder += abs(sum(hf.vector_op(coords[i+1],coords[i],operation='-')))\n",
    "        pos = (coords[i][0] * coords[i+1][1])\n",
    "        neg = (coords[i+1][0]* coords[i][1])\n",
    "        tot += pos-neg\n",
    "    return (abs(tot)+boarder)/2+1\n",
    "\n",
    "shoelace(points)\n",
    "#the reason for +1 is that if we are doing the boarders of the pound sign, "
   ]
  },
  {
   "cell_type": "code",
   "execution_count": 4,
   "metadata": {},
   "outputs": [
    {
     "data": {
      "text/plain": [
       "83605563360288.0"
      ]
     },
     "execution_count": 4,
     "metadata": {},
     "output_type": "execute_result"
    }
   ],
   "source": [
    "#part2\n",
    "\n",
    "# raw_input = '''R 6 (#70c710)\n",
    "# D 5 (#0dc571)\n",
    "# L 2 (#5713f0)\n",
    "# D 2 (#d2c081)\n",
    "# R 2 (#59c680)\n",
    "# D 2 (#411b91)\n",
    "# L 5 (#8ceee2)\n",
    "# U 2 (#caa173)\n",
    "# L 1 (#1b58a2)\n",
    "# U 2 (#caa171)\n",
    "# R 2 (#7807d2)\n",
    "# U 3 (#a77fa3)\n",
    "# L 2 (#015232)\n",
    "# U 2 (#7a21e3)'''\n",
    "\n",
    "raw_input = hf.read_file('input.txt')\n",
    "\n",
    "mod_input = hf.modify_raw(raw_input)\n",
    "\n",
    "final_input = {}\n",
    "for i in range(len(mod_input)):\n",
    "    x = mod_input[i].split(' ')\n",
    "    color = x[2].replace('(','').replace(')','')\n",
    "    direction = ['R','D','L','U'][int(color[-1])]\n",
    "    length = int(color[0:-1].replace('#',''),16)\n",
    "    final_input.setdefault(i,{'dir':direction,'len':length,'color':x[2]})\n",
    "\n",
    "start = [1,1]\n",
    "area = 0\n",
    "max_area = 0\n",
    "points = [start]\n",
    "last = start\n",
    "\n",
    "\n",
    "for i in list(final_input.values()):\n",
    "    direction = i['dir']\n",
    "    length = int(i['len'])\n",
    "    last = hf.vector_op(last,hf.vector_scale(dir_dict[direction],length),'+')\n",
    "    points.append(last)\n",
    "\n",
    "\n",
    "shoelace(points)\n"
   ]
  }
 ],
 "metadata": {
  "kernelspec": {
   "display_name": "probenv",
   "language": "python",
   "name": "python3"
  },
  "language_info": {
   "codemirror_mode": {
    "name": "ipython",
    "version": 3
   },
   "file_extension": ".py",
   "mimetype": "text/x-python",
   "name": "python",
   "nbconvert_exporter": "python",
   "pygments_lexer": "ipython3",
   "version": "3.11.3"
  }
 },
 "nbformat": 4,
 "nbformat_minor": 2
}
