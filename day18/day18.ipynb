{
 "cells": [
  {
   "cell_type": "code",
   "execution_count": 1,
   "metadata": {},
   "outputs": [],
   "source": [
    "import sys\n",
    "import os\n",
    "\n",
    "__file__ = 'helper_funcs.py'\n",
    "file_path = os.path.abspath(os.path.join(os.path.dirname( __file__ ), '..'))\n",
    "sys.path.append(file_path)\n",
    "\n",
    "import helper_funcs as hf\n"
   ]
  },
  {
   "cell_type": "code",
   "execution_count": 35,
   "metadata": {},
   "outputs": [
    {
     "name": "stdout",
     "output_type": "stream",
     "text": [
      "(0, {'dir': 'R', 'len': '6', 'color': '(#70c710)'})\n",
      "(1, {'dir': 'D', 'len': '5', 'color': '(#0dc571)'})\n",
      "(2, {'dir': 'L', 'len': '2', 'color': '(#5713f0)'})\n",
      "(3, {'dir': 'D', 'len': '2', 'color': '(#d2c081)'})\n",
      "(4, {'dir': 'R', 'len': '2', 'color': '(#59c680)'})\n",
      "(5, {'dir': 'D', 'len': '2', 'color': '(#411b91)'})\n",
      "(6, {'dir': 'L', 'len': '5', 'color': '(#8ceee2)'})\n",
      "(7, {'dir': 'U', 'len': '2', 'color': '(#caa173)'})\n",
      "(8, {'dir': 'L', 'len': '1', 'color': '(#1b58a2)'})\n",
      "(9, {'dir': 'U', 'len': '2', 'color': '(#caa171)'})\n",
      "(10, {'dir': 'R', 'len': '2', 'color': '(#7807d2)'})\n",
      "(11, {'dir': 'U', 'len': '3', 'color': '(#a77fa3)'})\n",
      "(12, {'dir': 'L', 'len': '2', 'color': '(#015232)'})\n",
      "(13, {'dir': 'U', 'len': '2', 'color': '(#7a21e3)'})\n"
     ]
    },
    {
     "data": {
      "text/plain": [
       "['......',\n",
       " '......',\n",
       " '......',\n",
       " '......',\n",
       " '......',\n",
       " '......',\n",
       " '......',\n",
       " '......',\n",
       " '......']"
      ]
     },
     "execution_count": 35,
     "metadata": {},
     "output_type": "execute_result"
    }
   ],
   "source": [
    "raw_input = '''R 6 (#70c710)\n",
    "D 5 (#0dc571)\n",
    "L 2 (#5713f0)\n",
    "D 2 (#d2c081)\n",
    "R 2 (#59c680)\n",
    "D 2 (#411b91)\n",
    "L 5 (#8ceee2)\n",
    "U 2 (#caa173)\n",
    "L 1 (#1b58a2)\n",
    "U 2 (#caa171)\n",
    "R 2 (#7807d2)\n",
    "U 3 (#a77fa3)\n",
    "L 2 (#015232)\n",
    "U 2 (#7a21e3)'''\n",
    "\n",
    "mod_input = hf.modify_raw(raw_input)\n",
    "\n",
    "final_input = {}\n",
    "for i in range(len(mod_input)):\n",
    "    x = mod_input[i].split(' ')\n",
    "    final_input.setdefault(i,{'dir':x[0],'len':x[1],'color':x[2]})\n",
    "\n",
    "\n",
    "max_x = 0\n",
    "max_y = 0\n",
    "cur_x = 0\n",
    "cur_y = 0\n",
    "for i in final_input.items():\n",
    "    tmp_dic = i[1]\n",
    "    print(i)\n",
    "    tmp_val = int(i[1]['len'])\n",
    "    tmp_dir = i[1]['dir']\n",
    "    if tmp_dir == 'R':\n",
    "        cur_x += tmp_val\n",
    "    elif tmp_dir =='L':\n",
    "        cur_x-= tmp_val\n",
    "    elif tmp_dir =='U':\n",
    "        cur_y -= tmp_val\n",
    "    elif tmp_dir =='D':\n",
    "        cur_y += tmp_val\n",
    "    if cur_x > max_x:\n",
    "        max_x = cur_x\n",
    "    if cur_y > max_y:\n",
    "        max_y = cur_y\n",
    "\n",
    "x = ['.'*max_x]\n",
    "grid = x*max_y\n",
    "grid\n",
    "        "
   ]
  },
  {
   "cell_type": "code",
   "execution_count": 43,
   "metadata": {},
   "outputs": [
    {
     "name": "stdout",
     "output_type": "stream",
     "text": [
      "['######', '#.....', '#.....', '#.....', '#.....', '......', '......', '#.....', '#.....']\n",
      "['######', '#.....', '#.....', '#.....', '#.....', '......', '......', '#.....', '#.....']\n",
      "['######', '#.....', '#.....', '#.....', '#.....', '......', '......', '#.....', '#.....']\n",
      "['######', '#.....', '#.....', '#.....', '#.....', '......', '......', '#.....', '#.....']\n"
     ]
    }
   ],
   "source": [
    "#R = +1, L = -1, D = +1, U = -1\n",
    "\n",
    "\n",
    "def draw(grid,start,len,dir)->list:\n",
    "    for i in range(len):\n",
    "        coord = (start[1],start[0]+(dir*i))\n",
    "        tmp_grid = list(grid[coord[0]])\n",
    "        tmp_grid[coord[1]] = '#'\n",
    "        grid[coord[0]] = ''.join(tmp_grid)\n",
    "    \n",
    "    return grid,coord\n",
    "\n",
    "\n",
    "for i in final_input.items():\n",
    "    if i[0]>3:\n",
    "        break\n",
    "    tmp_val = int(i[1]['len'])\n",
    "    tmp_dir = i[1]['dir']\n",
    "    next_start = (0,0)\n",
    "    if tmp_dir in ('U','D'):\n",
    "        grid = [''.join(i) for i in hf.transpose(grid)]\n",
    "        next_start = (next_start[1],next_start[0])\n",
    "    if tmp_dir in ('L','U'):\n",
    "        mag_dir = -1\n",
    "    else:\n",
    "        mag_dir = 1\n",
    "    grid, next_start = draw(grid,next_start,tmp_val,mag_dir)\n",
    "\n",
    "    if tmp_dir in ('U','D'):\n",
    "        grid = [''.join(i) for i in hf.transpose(grid)]\n",
    "        next_start = (next_start[1],next_start[0])\n",
    "    print(grid)\n",
    "test,end = draw(grid,(0,0),6,1)\n"
   ]
  },
  {
   "cell_type": "code",
   "execution_count": 36,
   "metadata": {},
   "outputs": [
    {
     "data": {
      "text/plain": [
       "['......',\n",
       " '......',\n",
       " '......',\n",
       " '......',\n",
       " '......',\n",
       " '......',\n",
       " '......',\n",
       " '......',\n",
       " '......']"
      ]
     },
     "execution_count": 36,
     "metadata": {},
     "output_type": "execute_result"
    }
   ],
   "source": [
    "grid"
   ]
  }
 ],
 "metadata": {
  "kernelspec": {
   "display_name": "probenv",
   "language": "python",
   "name": "python3"
  },
  "language_info": {
   "codemirror_mode": {
    "name": "ipython",
    "version": 3
   },
   "file_extension": ".py",
   "mimetype": "text/x-python",
   "name": "python",
   "nbconvert_exporter": "python",
   "pygments_lexer": "ipython3",
   "version": "3.11.3"
  }
 },
 "nbformat": 4,
 "nbformat_minor": 2
}
