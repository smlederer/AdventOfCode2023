{
 "cells": [
  {
   "cell_type": "code",
   "execution_count": 45,
   "metadata": {},
   "outputs": [
    {
     "name": "stdout",
     "output_type": "stream",
     "text": [
      "19855\n",
      "10378710\n"
     ]
    }
   ],
   "source": [
    "#day 4.1 and 4.2 final:\n",
    "\n",
    "def read_file(path):\n",
    "    file = open(path,\"r\")\n",
    "    lines = file.read()\n",
    "    file.close()\n",
    "    return lines\n",
    "\n",
    "raw_input = read_file('input.txt')\n",
    "\n",
    "# raw_input = '''Card 1: 41 48 83 86 17 | 83 86  6 31 17  9 48 53\n",
    "# Card   2: 13 32 20 16 61 | 61 30 68 82 17 32 24 19 61\n",
    "# Card 3:  1 21 53 59 44 | 69 82 63 72 16 21 14  1\n",
    "# Card 4: 41 92 73 84 69 | 59 84 76 51 58  5 54 83\n",
    "# Card 5: 87 83 26 28 32 | 88 30 70 12 93 22 82 36\n",
    "# Card 6: 31 18 13 56 72 | 74 77 10 23 35 67 36 11'''\n",
    "\n",
    "\n",
    "mod_input = raw_input.strip().split('\\n')\n",
    "\n",
    "results_dict={}\n",
    "\n",
    "for card,content in [i.split(':') for i in mod_input]:\n",
    "    winning_numbers, my_numbers = content.split('|')\n",
    "    card = int(card.replace('Card ','').strip())\n",
    "    winning_numbers  = [int(i) for i in winning_numbers.split()]\n",
    "    my_numbers = [int(i) for i in my_numbers.split()]\n",
    "\n",
    "    #search\n",
    "    wins = 0\n",
    "    for num in winning_numbers:\n",
    "        if num in my_numbers:\n",
    "            wins+=1\n",
    "            next\n",
    "\n",
    "    #value \n",
    "    prize = 2**(wins-1) if wins>0 else 0\n",
    "\n",
    "    #cards\n",
    "    card_prizes = [card+i for i in range(0,wins+1)]\n",
    "\n",
    "    results_dict.setdefault(card,{'win_nums':winning_numbers,'my_nums':my_numbers,'wins':wins,'prize':prize,'card_prizes':card_prizes})\n",
    "\n",
    "print(sum([i['prize'] for i in results_dict.values()]))\n",
    "\n",
    "#part 2\n",
    "final_count_dict = {}\n",
    "\n",
    "for seed in list(results_dict.keys()): #[1,2,3,4]\n",
    "    final_count_dict.setdefault(seed,1)\n",
    "    for tic in results_dict[seed]['card_prizes'][1:]: #for 1 [2,3,4,5]\n",
    "        final_count_dict.setdefault(tic,1)\n",
    "        final_count_dict[tic] += (final_count_dict[seed])\n",
    "\n",
    "print(sum(final_count_dict.values()))\n",
    "\n"
   ]
  },
  {
   "cell_type": "markdown",
   "metadata": {},
   "source": [
    "### THE GRAVEYARD, BEWARE"
   ]
  },
  {
   "cell_type": "code",
   "execution_count": 2,
   "metadata": {},
   "outputs": [
    {
     "data": {
      "text/plain": [
       "13"
      ]
     },
     "execution_count": 2,
     "metadata": {},
     "output_type": "execute_result"
    }
   ],
   "source": [
    "#day 4 of advent of code \n",
    "\n",
    "\n",
    "def read_file(path):\n",
    "    file = open(path,\"r\")\n",
    "    lines = file.read()\n",
    "    file.close()\n",
    "    return lines\n",
    "\n",
    "# raw_input = read_file('input.txt')\n",
    "\n",
    "raw_input = '''Card 1: 41 48 83 86 17 | 83 86  6 31 17  9 48 53\n",
    "Card   2: 13 32 20 16 61 | 61 30 68 82 17 32 24 19 61\n",
    "Card 3:  1 21 53 59 44 | 69 82 63 72 16 21 14  1\n",
    "Card 4: 41 92 73 84 69 | 59 84 76 51 58  5 54 83\n",
    "Card 5: 87 83 26 28 32 | 88 30 70 12 93 22 82 36\n",
    "Card 6: 31 18 13 56 72 | 74 77 10 23 35 67 36 11'''\n",
    "\n",
    "# raw_input = '''\n",
    "# Card 1: 0 | 1\n",
    "# Card 2: 0 | 1\n",
    "# '''\n",
    "\n",
    "\n",
    "mod_input = raw_input.strip().split('\\n')\n",
    "\n",
    "final_output = {}\n",
    "\n",
    "for line in mod_input:\n",
    "    z = line.split(':')\n",
    "    card_num = z[0].strip().replace('Card ','')\n",
    "    rest = z[1].split(\"|\")\n",
    "    winner = [int(i) for i in rest[0].strip().replace('  ',' 0').split(' ')]\n",
    "    mine = [int(i) for i in rest[1].strip().replace('  ',' 0').split(' ')]\n",
    "    final_output.setdefault(card_num,{'winner':winner,'mine':mine})\n",
    "\n",
    "result_wins = {}\n",
    "win_counter = {}\n",
    "\n",
    "for i in final_output.keys():\n",
    "    wins = 0\n",
    "    x = final_output[i]\n",
    "    for j in x['winner']:\n",
    "        if j in x['mine']:\n",
    "            wins+=1\n",
    "    result = 2**(wins-1)\n",
    "    if result < 1:\n",
    "        result = 0\n",
    "\n",
    "    win_counter[i] = wins\n",
    "    result_wins[i] = result\n",
    "\n",
    "\n",
    "\n",
    "sum(list(result_wins.values()))"
   ]
  },
  {
   "cell_type": "code",
   "execution_count": null,
   "metadata": {},
   "outputs": [],
   "source": [
    "#part 2 find,repleace\n",
    "# too low: 3_741_756\n",
    "# 3_741_357\n",
    "# too low: 6_824_611\n",
    "\n",
    "winning_dict = {}\n",
    "for i in win_counter.keys():\n",
    "    win_list = []\n",
    "    for j in range(0,int(win_counter[i])+1):\n",
    "        win_list.append(str(int(i)+j))\n",
    "    winning_dict.setdefault(i,win_list)\n",
    "\n",
    "# returns a dictionary of ticket and what it nets out: 1 : [1,2,3,4,5,6,7,8,9,10,11] for 1 win 10\n",
    "\n",
    "\n",
    "#initializes a string of tickets current as _1_2_3_4_...n_\n",
    "tickets_initial = ('_'+('_'.join(list(win_counter.keys())))+'_').replace(' ','')\n",
    "\n",
    "for i in list(win_counter.keys()):\n",
    "    winnings = '_'+'_'.join(list(winning_dict[i]))+'_'\n",
    "    val = int(i)\n",
    "    #replace all instances in the string of tickets tracker with the winnings in teh same format\n",
    "    #ex: _1_2_3_ replacing 1 with [1,2] nets out _1_2_2_3_ where the incision is on 1\n",
    "    tickets_initial = tickets_initial.replace('_'+str(val)+'_',winnings)\n",
    "\n",
    "\n",
    "\n",
    "final_count = {}\n",
    "for i in tickets_initial.split('_'):\n",
    "    if i != '':\n",
    "        final_count.setdefault(i,0)\n",
    "        final_count[i] += 1\n",
    "\n",
    "sum(list(final_count.values()))\n"
   ]
  },
  {
   "cell_type": "code",
   "execution_count": null,
   "metadata": {},
   "outputs": [],
   "source": [
    "winning_dict = {}\n",
    "for i in win_counter.keys():\n",
    "    win_list = []\n",
    "    for j in range(0,int(win_counter[i])+1):\n",
    "        win_list.append(str(int(i)+j))\n",
    "    winning_dict.setdefault(i.replace(' ',''),win_list)\n",
    "\n",
    "\n",
    "current_tickets = list(winning_dict.keys())\n",
    "\n",
    "\n",
    "tickets = '_'+'_'.join(current_tickets)+'_'\n",
    "\n",
    "ticket_order = [str(i) for i in sorted([int(i) for i in list(winning_dict.keys())])]\n",
    "\n",
    "\n",
    "for i in ticket_order: #go 1 through 204\n",
    "    tickets = tickets.replace('_'+i+'_','_'+'_'.join(winning_dict[i])+'_')\n",
    "\n",
    "\n",
    "\n",
    "final_count = {}\n",
    "for i in tickets.split('_'):\n",
    "    if i != '':\n",
    "        final_count.setdefault(i,0)\n",
    "        final_count[i] += 1\n",
    "\n",
    "sum(list(final_count.values()))"
   ]
  },
  {
   "cell_type": "code",
   "execution_count": null,
   "metadata": {},
   "outputs": [],
   "source": [
    "count = 0\n",
    "for i in '5 99 19 65 54 13 14 9 72 78'.split(' '):\n",
    "    if i in '52 83 68 93 79 84 81 36 88 44 41 11 43 85 23 82 47 3 66 14 26 67 34 60 64'.split(' '):\n",
    "        count += 1\n",
    "print(count)"
   ]
  },
  {
   "cell_type": "code",
   "execution_count": null,
   "metadata": {},
   "outputs": [],
   "source": [
    "win_counter"
   ]
  },
  {
   "cell_type": "code",
   "execution_count": 42,
   "metadata": {},
   "outputs": [
    {
     "data": {
      "text/plain": [
       "19855"
      ]
     },
     "execution_count": 42,
     "metadata": {},
     "output_type": "execute_result"
    }
   ],
   "source": [
    "# raw_input = '''Card 1: 41 48 83 86 17 | 83 86  6 31 17  9 48 53\n",
    "# Card   2: 13 32 20 16 61 | 61 30 68 82 17 32 24 19 61\n",
    "# Card 3:  1 21 53 59 44 | 69 82 63 72 16 21 14  1\n",
    "# Card 4: 41 92 73 84 69 | 59 84 76 51 58  5 54 83\n",
    "# Card 5: 87 83 26 28 32 | 88 30 70 12 93 22 82 36\n",
    "# Card 6: 31 18 13 56 72 | 74 77 10 23 35 67 36 11'''\n",
    "\n",
    "\n",
    "raw_input = read_file('input.txt')\n",
    "\n",
    "mod_input = raw_input.strip().split('\\n')\n",
    "\n",
    "results_dict={}\n",
    "\n",
    "for card,content in [i.split(':') for i in mod_input]:\n",
    "    winning_numbers, my_numbers = content.split('|')\n",
    "    card = int(card.replace('Card ','').strip())\n",
    "    winning_numbers  = [int(i) for i in winning_numbers.split()]\n",
    "    my_numbers = [int(i) for i in my_numbers.split()]\n",
    "\n",
    "    #search\n",
    "    wins = 0\n",
    "    for num in winning_numbers:\n",
    "        if num in my_numbers:\n",
    "            wins+=1\n",
    "            next\n",
    "\n",
    "    #value \n",
    "    prize = 2**(wins-1) if wins>0 else 0\n",
    "\n",
    "    #cards\n",
    "    card_prizes = [card+i for i in range(0,wins+1)]\n",
    "\n",
    "    results_dict.setdefault(card,{'win_nums':winning_numbers,'my_nums':my_numbers,'wins':wins,'prize':prize,'card_prizes':card_prizes})\n",
    "\n",
    "sum([i['prize'] for i in results_dict.values()])\n",
    "\n"
   ]
  },
  {
   "cell_type": "code",
   "execution_count": null,
   "metadata": {},
   "outputs": [],
   "source": [
    "[i['card_prizes'] for i in results_dict.values()]"
   ]
  },
  {
   "cell_type": "code",
   "execution_count": null,
   "metadata": {},
   "outputs": [],
   "source": [
    "def int_list_to_str(input:list)->list:\n",
    "    return [str(i) for i in list(input)]\n",
    "\n",
    "\n",
    "ticker = ' '+' '.join(int_list_to_str(results_dict.keys()))+' '\n",
    "for i in sorted(list(results_dict.keys())):\n",
    "    ticker = ticker.replace(' '+str(i)+' ',' '+' '.join(int_list_to_str(results_dict[i]['card_prizes']))+' ')\n",
    "\n",
    "counter = ticker.strip().split()\n",
    "\n",
    "final_count_dict = {}\n",
    "for i in counter:\n",
    "    final_count_dict.setdefault(i,0)\n",
    "    final_count_dict[i]+= 1\n",
    "\n",
    "sum(final_count_dict.values())"
   ]
  },
  {
   "cell_type": "code",
   "execution_count": 44,
   "metadata": {},
   "outputs": [
    {
     "data": {
      "text/plain": [
       "10378710"
      ]
     },
     "execution_count": 44,
     "metadata": {},
     "output_type": "execute_result"
    }
   ],
   "source": [
    "final_count_dict = {}\n",
    "\n",
    "for seed in list(results_dict.keys()): #[1,2,3,4]\n",
    "    final_count_dict.setdefault(seed,1)\n",
    "    for tic in results_dict[seed]['card_prizes'][1:]: #for 1 [2,3,4,5]\n",
    "        final_count_dict.setdefault(tic,1)\n",
    "        final_count_dict[tic] += (final_count_dict[seed])\n",
    "\n",
    "sum(final_count_dict.values())\n",
    "\n"
   ]
  }
 ],
 "metadata": {
  "kernelspec": {
   "display_name": "probenv",
   "language": "python",
   "name": "python3"
  },
  "language_info": {
   "codemirror_mode": {
    "name": "ipython",
    "version": 3
   },
   "file_extension": ".py",
   "mimetype": "text/x-python",
   "name": "python",
   "nbconvert_exporter": "python",
   "pygments_lexer": "ipython3",
   "version": "3.11.3"
  }
 },
 "nbformat": 4,
 "nbformat_minor": 2
}
