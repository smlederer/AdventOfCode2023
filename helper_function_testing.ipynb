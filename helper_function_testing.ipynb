{
 "cells": [
  {
   "cell_type": "code",
   "execution_count": 1,
   "metadata": {},
   "outputs": [
    {
     "name": "stdout",
     "output_type": "stream",
     "text": [
      "['modify_raw', 'read_file', 'transpose']\n"
     ]
    }
   ],
   "source": [
    "#helper functions test\n",
    "\n",
    "import helper_funcs as hf\n",
    "\n",
    "print([x for x in dir(hf) if not x.endswith('__')])"
   ]
  },
  {
   "cell_type": "code",
   "execution_count": 5,
   "metadata": {},
   "outputs": [],
   "source": [
    "#methods needed to traverse a matrix:\n",
    "\n",
    "class matrix():\n",
    "    def __init__(self,matrix_list:list,empty_x=0,empty_y=0):\n",
    "        if (matrix_list==None):\n",
    "            self.matrix = []\n",
    "            for i in range(empty_x):\n",
    "                leaf = []\n",
    "                for j in range(empty_y):\n",
    "                    leaf.append(['.'])\n",
    "                self.matrix.append(leaf)\n",
    "        else:\n",
    "            self.matrix = [list(x) for x in matrix_list]\n",
    "        self.init_dim()\n",
    "        self.init_directions()\n",
    "\n",
    "    \n",
    "    #constant stuff:\n",
    "    \n",
    "    def init_directions(self)->list:\n",
    "        self.directions = {'core':{'N':[1,0],'E':[0,1],'W':[0,-1],'S':[-1,0]},'expaned':{'SW':[-1,-1],'SE':[-1,1],'NE':[1,1],'NW':[1,-1]}}\n",
    "\n",
    "\n",
    "    def init_dim(self)->list:\n",
    "        self.dimension = [len(self.matrix[0]),len(self.matrix)]\n",
    "        return self.dimension\n",
    "\n",
    "    def get_cell(self,x,y)->str:\n",
    "        return self.matrix[int(y)][int(x)]\n",
    "    \n",
    "    def set_cell(self,x,y,value)->None:\n",
    "        self.matrix[int(y)][int(x)] = str(value)\n",
    "\n",
    "    def clamp(self,x,y)->bool:\n",
    "        if (x<=self.dimension[0]-1) and (x>=0):\n",
    "            if (y<=self.dimension[1]-1) and (y>=0):\n",
    "                return True\n",
    "        else:\n",
    "            return False\n",
    "\n",
    "    def neighbor_from_coord(self,x,y,diagonal=False)->list:\n",
    "        #finds the neighbors of a cell including diagonal\n",
    "        #add dir? can return n[1,0]\n",
    "        #or maybe that should be a separete method where you save DIR.NORTH = [1,0] as a singleton\n",
    "        coords = []\n",
    "        checks = self.directions['core'].values()\n",
    "        if diagonal:\n",
    "            checks+= self.directions['expanded'].values()\n",
    "\n",
    "        for coor in checks:\n",
    "            neigh_x = x+coor[0]\n",
    "            neigh_y = y+coor[1]\n",
    "            if self.clamp(neigh_x,neigh_y):\n",
    "                coords.append((neigh_x,neigh_y))\n",
    "        return coords\n",
    "\n",
    "    def get_neighbor_content(self,x,y,diagonal = False)->list:\n",
    "        neighbor_dic = []\n",
    "        for i in self.neighbor_from_coord(x,y,diagonal):\n",
    "            neighbor_dic.append({'coord':(i[0],i[1]),'content':self.get_cell(*i)})\n",
    "        return neighbor_dic\n",
    "\n",
    "    \n",
    "    def find(self,value)->list:\n",
    "        found_coords = []\n",
    "        for i in range(self.dimension[0]):\n",
    "            for j in range(self.dimension[1]):\n",
    "                if str(self.get_cell(i,j)) == str(value):\n",
    "                    found_coords.append([i,j])\n",
    "        return found_coords\n",
    "\n",
    "raw_input = hf.read_file('day11/input.txt')\n",
    "mod_input = hf.modify_raw(raw_input)\n",
    "\n",
    "M = matrix(mod_input)\n",
    "M2 = matrix(None,3,3)"
   ]
  },
  {
   "cell_type": "code",
   "execution_count": 3,
   "metadata": {},
   "outputs": [
    {
     "data": {
      "text/plain": [
       "[[['.'], ['.'], ['.']], [['.'], ['.'], ['.']], [['.'], ['.'], ['.']]]"
      ]
     },
     "execution_count": 3,
     "metadata": {},
     "output_type": "execute_result"
    }
   ],
   "source": [
    "M2.matrix"
   ]
  },
  {
   "cell_type": "code",
   "execution_count": 6,
   "metadata": {},
   "outputs": [
    {
     "name": "stdout",
     "output_type": "stream",
     "text": [
      "TESTING: assert(M.neighbor_from_coord(1,1) == [(2, 1), (1, 2), (1, 0), (0, 1)])\n",
      "TEST PASSED\n",
      "TESTING: assert(M.dimension == [140,140])\n",
      "TEST PASSED\n",
      "TESTING: assert(M2.dimension == [3,3])\n",
      "TEST PASSED\n",
      "TESTING: M.get_cell(1,2)\n",
      "TEST PASSED\n",
      "TESTING: M.set_cell(1,2,'#')\n",
      "TEST PASSED\n"
     ]
    }
   ],
   "source": [
    "#tests \n",
    "raw_input = hf.read_file('day11/input.txt')\n",
    "mod_input = hf.modify_raw(raw_input)\n",
    "M = matrix(mod_input)\n",
    "\n",
    "M2 = matrix(None,3,3)\n",
    "tests = '''\n",
    "assert(M.neighbor_from_coord(1,1) == [(2, 1), (1, 2), (1, 0), (0, 1)])\n",
    "assert(M.dimension == [140,140])\n",
    "assert(M2.dimension == [3,3])\n",
    "M.get_cell(1,2)\n",
    "M.set_cell(1,2,'#')\n",
    "'''\n",
    "\n",
    "for i in hf.modify_raw(tests):\n",
    "    try:\n",
    "        print(f'TESTING: {i}')\n",
    "        exec(i)\n",
    "        print(f'TEST PASSED')\n",
    "    except AssertionError:\n",
    "        print(f'TEST FAILED')\n",
    "        raise\n",
    "    "
   ]
  }
 ],
 "metadata": {
  "kernelspec": {
   "display_name": "probenv",
   "language": "python",
   "name": "python3"
  },
  "language_info": {
   "codemirror_mode": {
    "name": "ipython",
    "version": 3
   },
   "file_extension": ".py",
   "mimetype": "text/x-python",
   "name": "python",
   "nbconvert_exporter": "python",
   "pygments_lexer": "ipython3",
   "version": "3.11.3"
  }
 },
 "nbformat": 4,
 "nbformat_minor": 2
}
