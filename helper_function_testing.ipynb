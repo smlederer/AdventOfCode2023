{
 "cells": [
  {
   "cell_type": "code",
   "execution_count": 1,
   "metadata": {},
   "outputs": [
    {
     "name": "stdout",
     "output_type": "stream",
     "text": [
      "['matrix', 'modify_raw', 'read_file', 'transpose', 'vector_op']\n"
     ]
    }
   ],
   "source": [
    "#helper functions test\n",
    "\n",
    "import helper_funcs as hf\n",
    "\n",
    "print([x for x in dir(hf) if not x.endswith('__')])"
   ]
  },
  {
   "cell_type": "code",
   "execution_count": 3,
   "metadata": {},
   "outputs": [
    {
     "data": {
      "text/plain": [
       "[{'coord': (1, 0), 'content': '.'}, {'coord': (0, 1), 'content': '.'}]"
      ]
     },
     "execution_count": 3,
     "metadata": {},
     "output_type": "execute_result"
    }
   ],
   "source": [
    "\n",
    "\n",
    "raw_input = hf.read_file('completed/day11/input.txt')\n",
    "mod_input = hf.modify_raw(raw_input)\n",
    "\n",
    "M = hf.matrix(mod_input)\n",
    "M2 = hf.matrix(None,3,3)\n",
    "\n",
    "M.get_neighbor_content(0,0,clamped=True)"
   ]
  },
  {
   "cell_type": "code",
   "execution_count": 18,
   "metadata": {},
   "outputs": [
    {
     "name": "stdout",
     "output_type": "stream",
     "text": [
      "[140, 140]\n",
      "[140, 280]\n"
     ]
    }
   ],
   "source": [
    "raw_input = hf.read_file('completed/day11/input.txt')\n",
    "mod_input = hf.modify_raw(raw_input)\n",
    "\n",
    "M = matrix(mod_input)\n",
    "print(M.dimension)\n",
    "M_copy = M.matrix.copy()\n",
    "M.append(M_copy,'u')\n",
    "print(M.dimension)"
   ]
  },
  {
   "cell_type": "code",
   "execution_count": 8,
   "metadata": {},
   "outputs": [],
   "source": [
    "M.append(M_copy,'l')\n",
    "M."
   ]
  },
  {
   "cell_type": "code",
   "execution_count": 10,
   "metadata": {},
   "outputs": [
    {
     "name": "stdout",
     "output_type": "stream",
     "text": [
      "TESTING: assert(M.neighbor_from_coord(1,1) == [[2, 1], [1, 2], [1, 0], [0, 1]])\n",
      "TEST PASSED\n",
      "TESTING: assert(M.dimension == [140,140])\n",
      "TEST PASSED\n",
      "TESTING: assert(M2.dimension == [3,3])\n",
      "TEST PASSED\n",
      "TESTING: M.get_cell(1,2)\n",
      "TEST PASSED\n",
      "TESTING: M.set_cell(1,2,'#')\n",
      "TEST PASSED\n"
     ]
    }
   ],
   "source": [
    "#tests \n",
    "raw_input = hf.read_file('completed/day11/input.txt')\n",
    "mod_input = hf.modify_raw(raw_input)\n",
    "M = hf.matrix(mod_input)\n",
    "\n",
    "\n",
    "tests = '''\n",
    "assert(M.neighbor_from_coord(1,1) == [[2, 1], [1, 2], [1, 0], [0, 1]])\n",
    "assert(M.dimension == [140,140])\n",
    "assert(M2.dimension == [3,3])\n",
    "M.get_cell(1,2)\n",
    "M.set_cell(1,2,'#')\n",
    "'''\n",
    "\n",
    "for i in hf.modify_raw(tests):\n",
    "    try:\n",
    "        print(f'TESTING: {i}')\n",
    "        exec(i)\n",
    "        print(f'TEST PASSED')\n",
    "    except AssertionError:\n",
    "        print(f'TEST FAILED')\n",
    "        raise\n",
    "    "
   ]
  },
  {
   "cell_type": "code",
   "execution_count": 20,
   "metadata": {},
   "outputs": [
    {
     "data": {
      "text/plain": [
       "[1.3333333333333333, 2.125, 3.024]"
      ]
     },
     "execution_count": 20,
     "metadata": {},
     "output_type": "execute_result"
    }
   ],
   "source": [
    "def vector_op(vector1:list,vector2:list,operation:str,verbose = False):\n",
    "    final = []\n",
    "    if len(vector1)==len(vector2):\n",
    "        for i in range(len(vector1)):\n",
    "            if verbose:\n",
    "                final.append(eval(operation))\n",
    "            else:\n",
    "                final.append(eval('vector1[i]'+operation+'vector2[i]'))\n",
    "    return final\n",
    "\n",
    "\n",
    "\n",
    "vector_op(vector1 = [1,2,3],vector2 =[3,4,5],operation = 'vector1[i]+vector1[i]/vector2[i]**vector1[i]',verbose=True)"
   ]
  },
  {
   "cell_type": "code",
   "execution_count": null,
   "metadata": {},
   "outputs": [],
   "source": []
  }
 ],
 "metadata": {
  "kernelspec": {
   "display_name": "probenv",
   "language": "python",
   "name": "python3"
  },
  "language_info": {
   "codemirror_mode": {
    "name": "ipython",
    "version": 3
   },
   "file_extension": ".py",
   "mimetype": "text/x-python",
   "name": "python",
   "nbconvert_exporter": "python",
   "pygments_lexer": "ipython3",
   "version": "3.11.3"
  }
 },
 "nbformat": 4,
 "nbformat_minor": 2
}
