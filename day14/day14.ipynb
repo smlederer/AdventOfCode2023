{
 "cells": [
  {
   "cell_type": "code",
   "execution_count": 1,
   "metadata": {},
   "outputs": [],
   "source": [
    "import sys\n",
    "import os\n",
    "\n",
    "__file__ = 'helper_funcs.py'\n",
    "file_path = os.path.abspath(os.path.join(os.path.dirname( __file__ ), '..'))\n",
    "sys.path.append(file_path)\n",
    "\n",
    "import helper_funcs as hf\n"
   ]
  },
  {
   "cell_type": "code",
   "execution_count": 2,
   "metadata": {},
   "outputs": [],
   "source": [
    "raw_input = '''O....#....\n",
    "O.OO#....#\n",
    ".....##...\n",
    "OO.#O....O\n",
    ".O.....O#.\n",
    "O.#..O.#.#\n",
    "..O..#O..O\n",
    ".......O..\n",
    "#....###..\n",
    "#OO..#....'''\n",
    "\n",
    "# raw_input = hf.read_file('input.txt')\n",
    "\n",
    "mod_input = hf.modify_raw(raw_input)\n",
    "\n",
    "# mod_input = mod_input[0:10] #testing "
   ]
  },
  {
   "cell_type": "code",
   "execution_count": 3,
   "metadata": {},
   "outputs": [
    {
     "name": "stdout",
     "output_type": "stream",
     "text": [
      "136\n"
     ]
    }
   ],
   "source": [
    "def transpose(matrix:list) -> list:\n",
    "    new_matrix = {}\n",
    "    for i in range(len(matrix[0])):\n",
    "        for j in range(len(matrix)):\n",
    "            new_matrix.setdefault(i,[])\n",
    "            new_matrix[i].append(matrix[j][i])\n",
    "\n",
    "    return list(new_matrix.values())\n",
    "transpose(mod_input)\n",
    "\n",
    "\n",
    "def rock_sort(string:str)->str:\n",
    "    og_len = len(string)\n",
    "    sort = ''\n",
    "    for i in string:\n",
    "        if i == 'O':\n",
    "            sort+='O'\n",
    "    for j in range(og_len - len(sort)):\n",
    "        sort += '.'\n",
    "    return sort\n",
    "\n",
    "\n",
    "\n",
    "new_map = [''.join(i) for i in transpose(mod_input)]\n",
    "map_construct = []\n",
    "for i in [i.split('#') for i in new_map]:\n",
    "    leaf = []\n",
    "    for j in i:\n",
    "        leaf.append(rock_sort(j))\n",
    "    map_construct.append('#'.join(leaf))\n",
    "\n",
    "grav_map = [''.join(i) for i in transpose(map_construct)]\n",
    "\n",
    "total = 0\n",
    "for j in range(len(grav_map),0,-1):\n",
    "    for i in grav_map[len(grav_map)-j]:\n",
    "        if i == 'O':\n",
    "            total += j\n",
    "\n",
    "print(total)\n",
    "#101916 too low"
   ]
  },
  {
   "cell_type": "code",
   "execution_count": 4,
   "metadata": {},
   "outputs": [
    {
     "data": {
      "text/plain": [
       "'OO......'"
      ]
     },
     "execution_count": 4,
     "metadata": {},
     "output_type": "execute_result"
    }
   ],
   "source": [
    "#part 2\n",
    "\n",
    "def rock_sort_v2(string:str,rev=False)->str:\n",
    "    og_len = len(string)\n",
    "    sort = ''\n",
    "    for i in string:\n",
    "        if i == 'O':\n",
    "            sort+='O'\n",
    "    for j in range(og_len - len(sort)):\n",
    "    \n",
    "        if rev:\n",
    "            sort = '.' + sort\n",
    "        else:\n",
    "            sort += '.'\n",
    "    return sort\n",
    "\n",
    "rock_sort_v2('.O..O...',rev=False)"
   ]
  },
  {
   "cell_type": "code",
   "execution_count": 6,
   "metadata": {},
   "outputs": [],
   "source": [
    "def sortDir(matrix,dir):\n",
    "    tmp_map =  matrix\n",
    "    #north -> transpose then Sort Left\n",
    "    #south -> transpose then sort right\n",
    "    #east -> sort right\n",
    "    #west -> sort left\n",
    "\n",
    "    if dir in ('N','S'):\n",
    "        tmp_map = [''.join(i) for i in transpose(matrix)]\n",
    "    \n",
    "    map_construct = []\n",
    "    for i in [i.split('#') for i in tmp_map]:\n",
    "        leaf = []\n",
    "        for j in i:\n",
    "            if dir in ('S','E'):\n",
    "                REVCON = True\n",
    "            else:\n",
    "                REVCON = False\n",
    "            leaf.append(rock_sort_v2(j,rev=REVCON))\n",
    "        map_construct.append('#'.join(leaf))\n",
    "\n",
    "    if dir in ('N','S'):\n",
    "        map_construct = [''.join(i) for i in transpose(map_construct)]\n",
    "    return map_construct\n",
    "\n",
    "sortDir(mod_input,'E')\n",
    "\n",
    "\n",
    "def calc_load(matrix):\n",
    "    total = 0\n",
    "    for j in range(len(matrix),0,-1):\n",
    "        for i in matrix[len(matrix)-j]:\n",
    "            if i == 'O':\n",
    "                total += j\n",
    "    return total"
   ]
  },
  {
   "cell_type": "code",
   "execution_count": 7,
   "metadata": {},
   "outputs": [],
   "source": [
    "cycle = ['N','W','S','E']\n",
    "\n",
    "x = mod_input.copy()\n",
    "c = 0\n",
    "for i in cycle*1000000000:\n",
    "    x = sortDir(x,i)\n",
    "\n",
    "print(calc_load(x))"
   ]
  },
  {
   "cell_type": "code",
   "execution_count": 26,
   "metadata": {},
   "outputs": [
    {
     "data": {
      "text/plain": [
       "63"
      ]
     },
     "execution_count": 26,
     "metadata": {},
     "output_type": "execute_result"
    }
   ],
   "source": [
    "calc_load(x)"
   ]
  }
 ],
 "metadata": {
  "kernelspec": {
   "display_name": "env",
   "language": "python",
   "name": "python3"
  },
  "language_info": {
   "codemirror_mode": {
    "name": "ipython",
    "version": 3
   },
   "file_extension": ".py",
   "mimetype": "text/x-python",
   "name": "python",
   "nbconvert_exporter": "python",
   "pygments_lexer": "ipython3",
   "version": "3.11.3"
  }
 },
 "nbformat": 4,
 "nbformat_minor": 2
}
