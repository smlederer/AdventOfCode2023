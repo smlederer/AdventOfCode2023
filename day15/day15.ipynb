{
 "cells": [
  {
   "cell_type": "code",
   "execution_count": 1,
   "metadata": {},
   "outputs": [],
   "source": [
    "import sys\n",
    "import os\n",
    "\n",
    "__file__ = 'helper_funcs.py'\n",
    "file_path = os.path.abspath(os.path.join(os.path.dirname( __file__ ), '..'))\n",
    "sys.path.append(file_path)\n",
    "\n",
    "import helper_funcs as hf\n"
   ]
  },
  {
   "cell_type": "code",
   "execution_count": 51,
   "metadata": {},
   "outputs": [
    {
     "data": {
      "text/plain": [
       "[(0, 2), (0, 11), (1, 6), (4, 0), (5, 11), (8, 5), (9, 1), (9, 10), (12, 7)]"
      ]
     },
     "execution_count": 51,
     "metadata": {},
     "output_type": "execute_result"
    }
   ],
   "source": [
    "raw_input = '''...#......\n",
    ".......#..\n",
    "#.........\n",
    "..........\n",
    "......#...\n",
    ".#........\n",
    ".........#\n",
    "..........\n",
    ".......#..\n",
    "#...#.....'''\n",
    "\n",
    "mod_input = hf.modify_raw(raw_input)\n",
    "\n",
    "def find_expanse(input:list)->list:\n",
    "    #horizontal\n",
    "    vert = []\n",
    "    hor = []\n",
    "    for n,i in enumerate(input): \n",
    "        if all(v=='.' for v in i):\n",
    "            hor.append(n)\n",
    "    #vertical\n",
    "    for i in range(len(input[0])):\n",
    "        tmp = []\n",
    "        for j in input:\n",
    "            tmp.append(j[i])\n",
    "        \n",
    "        if all(q=='.' for q in tmp):\n",
    "            vert.append(i)\n",
    "\n",
    "    return [hor,vert]\n",
    "\n",
    "\n",
    "def adjust_map(input:list)->list:\n",
    "    expanses = find_expanse(mod_input)\n",
    "    copy = mod_input.copy()\n",
    "    #horizontal\n",
    "    gen_template = ''.join(['.' for i in range(len(input[0]))])\n",
    "    t = 0\n",
    "    for i in expanses[0]:\n",
    "        copy.insert(i+t,gen_template)\n",
    "        t+=1\n",
    "    \n",
    "    #vert\n",
    "    t = 0\n",
    "    for j in expanses[1]: #2 5 8\n",
    "        for z in range(len(copy)):  #line by line number\n",
    "            tmp = list(copy[z])\n",
    "            tmp.insert(j+t,'.')\n",
    "            copy[z] = ''.join(tmp)\n",
    "        t+=1\n",
    "\n",
    "    return copy\n",
    "\n",
    "\n",
    "def find_galaxies(map:list)->list:\n",
    "    galaxy_coors = []\n",
    "    for i in range(len(map[0])):\n",
    "        for j in range(len(map)):\n",
    "            coor = (i,j)\n",
    "            if map[j][i] == '#':\n",
    "                galaxy_coors.append(coor)\n",
    "    return galaxy_coors\n",
    "\n",
    "\n",
    "new_map = adjust_map(mod_input)\n",
    "find_galaxies(new_map)"
   ]
  },
  {
   "cell_type": "code",
   "execution_count": 67,
   "metadata": {},
   "outputs": [
    {
     "data": {
      "text/plain": [
       "7.0"
      ]
     },
     "execution_count": 67,
     "metadata": {},
     "output_type": "execute_result"
    }
   ],
   "source": [
    "def distance(c1:tuple,c2:tuple):\n",
    "    tot = 0\n",
    "    if len(c1) == len(c2):\n",
    "        for i in range(len(c1)):\n",
    "            tot+= (c2[i]-c1[i])**2\n",
    "    return tot**(1/2)\n",
    "\n",
    "def ceil(a):\n",
    "    return a//1 + bool(a%1)\n",
    "\n",
    "ceil(distance((1,6),(5,11)))"
   ]
  },
  {
   "cell_type": "code",
   "execution_count": 137,
   "metadata": {},
   "outputs": [],
   "source": [
    "def get_dim(matrix:list) -> tuple:\n",
    "    #returns the dimensions of a matrix\n",
    "    return (len(matrix[0]),len(matrix))\n",
    "\n",
    "def clamp(matrix:list,coord:tuple)->bool:\n",
    "    #mchecks the coordinate to make sure it's within the dim of the matrix, returns false of it's outside\n",
    "    dim = get_dim(matrix)\n",
    "    if (coord[0]< 0) or (coord[0]>dim[0]-1) or (coord[1]<0) or (coord[1]>dim[1]-1):\n",
    "        return False\n",
    "    else:\n",
    "        return True\n",
    "\n",
    "def neighbors(coor:tuple) -> list:\n",
    "    #finds the neighbors of a cell including diagonal\n",
    "    coords = []\n",
    "    for i in [-1,0,1]:\n",
    "        for j in [-1,0,1]:\n",
    "            if (abs(i)==abs(j)): #omit corners, make sure it's only 1 moved and the other constant\n",
    "                pass\n",
    "            else:\n",
    "                coords.append((coor[0]+i,coor[1]+j))\n",
    "    return coords\n",
    "\n",
    "def find_cell(matrix:list,coor:tuple) -> str:\n",
    "    #finds the value of a cell\n",
    "    x = coor[0]\n",
    "    y = coor[1]\n",
    "    return matrix[y][x]"
   ]
  },
  {
   "cell_type": "code",
   "execution_count": 120,
   "metadata": {},
   "outputs": [
    {
     "data": {
      "text/plain": [
       "[(0, 1), (0, 2), (1, 0), (1, 2), (2, 0), (2, 1)]"
      ]
     },
     "execution_count": 120,
     "metadata": {},
     "output_type": "execute_result"
    }
   ],
   "source": [
    "neighbors((1,1))"
   ]
  },
  {
   "cell_type": "code",
   "execution_count": 141,
   "metadata": {},
   "outputs": [
    {
     "data": {
      "text/plain": [
       "374"
      ]
     },
     "execution_count": 141,
     "metadata": {},
     "output_type": "execute_result"
    }
   ],
   "source": [
    "#a* implementation\n",
    "\n",
    "def astar(start:tuple,end:tuple):\n",
    "    graph = []\n",
    "    for j in range(0,max(start[1],end[1])+1):\n",
    "        leaf = []\n",
    "        for i in range(0,max(start[0],end[0])+1):\n",
    "            h = distance((i,j),end) #heuristic\n",
    "            \n",
    "            leaf.append(h)\n",
    "        graph.append(leaf)\n",
    "\n",
    "    min_energy = find_cell(graph,start)\n",
    "    next_cell = start\n",
    "    l = 0\n",
    "    tmp_map = new_map.copy()  ##uh oh global variable wee woo\n",
    "    while min_energy != 0:\n",
    "        for i in neighbors(next_cell):\n",
    "            if clamp(graph,i):\n",
    "                cell_energy = find_cell(graph,i)\n",
    "                if cell_energy < min_energy:\n",
    "                    min_energy = cell_energy\n",
    "                    next_cell = i\n",
    "       \n",
    "        x = next_cell[0]\n",
    "        y = next_cell[1]\n",
    "        temp_list = list(tmp_map[y])\n",
    "        temp_list[x] = 'x'\n",
    "        tmp_map[y] = ''.join(temp_list)\n",
    "        \n",
    "     \n",
    "        l +=1\n",
    "    # print('\\n'.join(tmp_map))\n",
    "\n",
    "    return l\n",
    "\n",
    "###########\n",
    "\n",
    "new_map = adjust_map(mod_input)\n",
    "galaxies = find_galaxies(new_map)\n",
    "\n",
    "lengths = {}\n",
    "for i in galaxies:\n",
    "    for j in galaxies:\n",
    "        if i != j:\n",
    "            v = astar(i,j)\n",
    "            lengths.setdefault(''.join(sorted([str(i),str(j)])),v)\n",
    "\n",
    "sum(lengths.values())\n"
   ]
  }
 ],
 "metadata": {
  "kernelspec": {
   "display_name": "env",
   "language": "python",
   "name": "python3"
  },
  "language_info": {
   "codemirror_mode": {
    "name": "ipython",
    "version": 3
   },
   "file_extension": ".py",
   "mimetype": "text/x-python",
   "name": "python",
   "nbconvert_exporter": "python",
   "pygments_lexer": "ipython3",
   "version": "3.9.6"
  }
 },
 "nbformat": 4,
 "nbformat_minor": 2
}
