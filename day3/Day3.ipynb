{
 "cells": [
  {
   "cell_type": "code",
   "execution_count": 3,
   "metadata": {},
   "outputs": [
    {
     "name": "stdout",
     "output_type": "stream",
     "text": [
      "\n",
      "467..114..\n",
      "...*......\n",
      "..35..633.\n",
      "......#...\n",
      "617*......\n",
      ".....+.58.\n",
      "..592.....\n",
      "......755.\n",
      "...$.*....\n",
      ".664.598..\n"
     ]
    }
   ],
   "source": [
    "#advent of code day 3\n",
    "def read_file(path):\n",
    "    file = open(path,\"r\")\n",
    "    lines = file.read()\n",
    "    file.close()\n",
    "    return lines\n",
    "\n",
    "raw_input = '''\n",
    "467..114..\n",
    "...*......\n",
    "..35..633.\n",
    "......#...\n",
    "617*......\n",
    ".....+.58.\n",
    "..592.....\n",
    "......755.\n",
    "...$.*....\n",
    ".664.598..'''\n",
    "\n",
    "print(raw_input)"
   ]
  },
  {
   "cell_type": "code",
   "execution_count": 42,
   "metadata": {},
   "outputs": [
    {
     "name": "stdout",
     "output_type": "stream",
     "text": [
      "(10, 10)\n",
      "4\n",
      "4\n",
      ".\n",
      ".\n",
      "6\n",
      ".\n",
      "7\n",
      ".\n",
      "3\n"
     ]
    }
   ],
   "source": [
    "mod_input = raw_input.strip().split('\\n')\n",
    "\n",
    "def get_dim(matrix:list) -> tuple:\n",
    "    return (len(matrix),len(matrix[0]))\n",
    "\n",
    "print(get_dim(mod_input))\n",
    "\n",
    "\n",
    "def find_cell(matrix:list,coor:tuple) -> str:\n",
    "    x = coor[0]\n",
    "    y = coor[1]\n",
    "    return matrix[y][x]\n",
    "\n",
    "print(find_cell(mod_input,(0,0)))\n",
    "\n",
    "def neighbors(coor:tuple) -> list:\n",
    "    coords = []\n",
    "    for i in [-1,0,1]:\n",
    "        for j in [-1,0,1]:\n",
    "            if (i == 0) and (j == 0): #omit original value\n",
    "                pass\n",
    "            else:\n",
    "                coords.append((coor[0]+i,coor[1]+j))\n",
    "    return coords\n",
    "\n",
    "valid_symbols = '''!@#$%^&*()_-+={}[]'''\n",
    "\n",
    "def find_symbols(matrix:list) -> list:\n",
    "    symb_coords = []\n",
    "    dim = get_dim(matrix)\n",
    "    for i in range(dim[0]):\n",
    "        for j in range(dim[1]):\n",
    "            coordinate = (i,j)\n",
    "            contents = find_cell(matrix,coordinate)\n",
    "            if contents in valid_symbols:\n",
    "                symb_coords.append(coordinate)\n",
    "    return symb_coords\n",
    "\n",
    "for i in neighbors((1,1)):\n",
    "    print(find_cell(mod_input,i))\n"
   ]
  },
  {
   "cell_type": "code",
   "execution_count": 133,
   "metadata": {},
   "outputs": [
    {
     "name": "stdout",
     "output_type": "stream",
     "text": [
      "467\n",
      "\n",
      "114\n",
      "\n",
      "\n",
      "\n",
      "\n",
      "\n",
      "\n",
      "\n",
      "\n",
      "\n",
      "\n",
      "\n",
      "\n",
      "\n",
      "\n",
      "\n",
      "35\n",
      "\n",
      "633\n",
      "\n",
      "\n",
      "\n",
      "\n",
      "\n",
      "\n",
      "\n",
      "\n",
      "\n",
      "\n",
      "\n",
      "\n",
      "617\n",
      "\n",
      "\n",
      "\n",
      "\n",
      "\n",
      "\n",
      "\n",
      "\n",
      "\n",
      "\n",
      "\n",
      "\n",
      "\n",
      "\n",
      "58\n",
      "\n",
      "\n",
      "\n",
      "592\n",
      "\n",
      "\n",
      "\n",
      "\n",
      "\n",
      "\n",
      "\n",
      "\n",
      "\n",
      "\n",
      "\n",
      "755\n",
      "\n",
      "\n",
      "\n",
      "\n",
      "\n",
      "\n",
      "\n",
      "\n",
      "\n",
      "\n",
      "\n",
      "\n",
      "\n",
      "664\n",
      "598\n",
      "\n",
      "\n",
      "('467', [(0, 0), (1, 0), (2, 0)]) (3, 1)\n",
      "('114', [(4, 0), (5, 0), (6, 0)]) (3, 1)\n",
      "('35', [(2, 2), (3, 2)]) (3, 1)\n",
      "('633', [(5, 2), (6, 2), (7, 2)]) (6, 3)\n",
      "('617', [(0, 4), (1, 4), (2, 4)]) (3, 4)\n",
      "('592', [(2, 6), (3, 6), (4, 6)]) (5, 5)\n",
      "('755', [(6, 7), (7, 7), (8, 7)]) (5, 8)\n",
      "('664', [(1, 9), (2, 9), (3, 9)]) (3, 8)\n",
      "('598', [(4, 9), (5, 9), (6, 9)]) (3, 8)\n",
      "[467, 114, 35, 633, 617, 592, 755, 664, 598] 4475\n"
     ]
    }
   ],
   "source": [
    "def find_numbers(matrix:list) -> list:\n",
    "    num_coords = []\n",
    "    dim = get_dim(matrix)\n",
    "    for i in range(dim[0]):\n",
    "        for j in range(dim[1]):\n",
    "            coordinate = (i,j)\n",
    "            contents = find_cell(matrix,coordinate)\n",
    "            if contents.isnumeric():\n",
    "                num_coords.append(coordinate)\n",
    "    return num_coords\n",
    "\n",
    "\n",
    "edited_matrix = raw_input\n",
    "for x in valid_symbols:\n",
    "    edited_matrix = edited_matrix.replace(x,'.')\n",
    "\n",
    "edited_input = edited_matrix.strip().split('\\n')\n",
    "    \n",
    "\n",
    "def number_coordinate_search(matrix:list) -> list:\n",
    "    number_dict = {}\n",
    "    dim = get_dim(matrix)\n",
    "    for i in range(dim[0]):\n",
    "        offset = 0\n",
    "        for j in matrix[i].split('.'):\n",
    "            print(j)\n",
    "            if j.isnumeric():\n",
    "                number_dict.setdefault(j,[])\n",
    "                coords = []\n",
    "                for k in range(len(j)):\n",
    "                    coords.append((offset,i))\n",
    "                    offset+=1\n",
    "                number_dict[j] = coords\n",
    "            else:\n",
    "                offset+=1\n",
    "\n",
    "    return number_dict\n",
    "\n",
    "def clamp(matrix:list,coord:tuple)->bool:\n",
    "    dim = get_dim(matrix)\n",
    "    if (coord[0] < 0) or (coord[0]>=dim[0]) or (coord[1]<0) or (coord[1]>=dim[1]):\n",
    "        return False\n",
    "    else:\n",
    "        return True\n",
    "\n",
    "\n",
    "num_nxt_symb = []\n",
    "\n",
    "for i in number_coordinate_search(edited_input).items():\n",
    "    contFlag = True\n",
    "    for j in i[1]:\n",
    "        for k in neighbors(j):\n",
    "            if clamp(mod_input,k) and contFlag:\n",
    "                if (find_cell(mod_input,k) in valid_symbols):\n",
    "                    print(i,k)\n",
    "                    num_nxt_symb.append(int(i[0]))\n",
    "                    contFlag = False\n",
    "                    \n",
    "                    \n",
    "\n",
    "\n",
    "print(num_nxt_symb,sum(num_nxt_symb))\n",
    "    "
   ]
  },
  {
   "cell_type": "code",
   "execution_count": 92,
   "metadata": {},
   "outputs": [
    {
     "data": {
      "text/plain": [
       "[(-1, 1), (-1, 2), (-1, 3), (0, 1), (0, 3), (1, 1), (1, 2), (1, 3)]"
      ]
     },
     "execution_count": 92,
     "metadata": {},
     "output_type": "execute_result"
    }
   ],
   "source": [
    "neighbors((0,2))"
   ]
  },
  {
   "cell_type": "code",
   "execution_count": 138,
   "metadata": {},
   "outputs": [
    {
     "ename": "ValueError",
     "evalue": "empty separator",
     "output_type": "error",
     "traceback": [
      "\u001b[0;31m---------------------------------------------------------------------------\u001b[0m",
      "\u001b[0;31mValueError\u001b[0m                                Traceback (most recent call last)",
      "\u001b[1;32m/Users/samuellederer/Documents/python_dir/AdventOfCode2023/day3/Day3.ipynb Cell 5\u001b[0m line \u001b[0;36m1\n\u001b[0;32m----> <a href='vscode-notebook-cell:/Users/samuellederer/Documents/python_dir/AdventOfCode2023/day3/Day3.ipynb#W5sZmlsZQ%3D%3D?line=0'>1</a>\u001b[0m edited_input[\u001b[39m0\u001b[39;49m]\u001b[39m.\u001b[39;49msplit(\u001b[39m'\u001b[39;49m\u001b[39m'\u001b[39;49m)\n",
      "\u001b[0;31mValueError\u001b[0m: empty separator"
     ]
    }
   ],
   "source": [
    "edited_input[0].split('.',)"
   ]
  },
  {
   "cell_type": "code",
   "execution_count": 124,
   "metadata": {},
   "outputs": [
    {
     "data": {
      "text/plain": [
       "{'467': [(0, 0), (1, 0), (2, 0)],\n",
       " '114': [(3, 0), (4, 0), (5, 0)],\n",
       " '35': [(0, 2), (1, 2)],\n",
       " '633': [(2, 2), (3, 2), (4, 2)],\n",
       " '617': [(0, 4), (1, 4), (2, 4)],\n",
       " '58': [(0, 5), (1, 5)],\n",
       " '592': [(0, 6), (1, 6), (2, 6)],\n",
       " '755': [(0, 7), (1, 7), (2, 7)],\n",
       " '664': [(0, 9), (1, 9), (2, 9)],\n",
       " '598': [(3, 9), (4, 9), (5, 9)]}"
      ]
     },
     "execution_count": 124,
     "metadata": {},
     "output_type": "execute_result"
    }
   ],
   "source": [
    "number_coordinate_search(edited_input)"
   ]
  }
 ],
 "metadata": {
  "kernelspec": {
   "display_name": "env",
   "language": "python",
   "name": "python3"
  },
  "language_info": {
   "codemirror_mode": {
    "name": "ipython",
    "version": 3
   },
   "file_extension": ".py",
   "mimetype": "text/x-python",
   "name": "python",
   "nbconvert_exporter": "python",
   "pygments_lexer": "ipython3",
   "version": "3.9.6"
  }
 },
 "nbformat": 4,
 "nbformat_minor": 2
}
