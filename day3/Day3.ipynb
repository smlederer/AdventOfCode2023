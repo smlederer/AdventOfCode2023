{
 "cells": [
  {
   "cell_type": "code",
   "execution_count": 3,
   "metadata": {},
   "outputs": [
    {
     "name": "stdout",
     "output_type": "stream",
     "text": [
      "\n",
      "467..114..\n",
      "...*......\n",
      "..35..633.\n",
      "......#...\n",
      "617*......\n",
      ".....+.58.\n",
      "..592.....\n",
      "......755.\n",
      "...$.*....\n",
      ".664.598..\n"
     ]
    }
   ],
   "source": [
    "#advent of code day 3\n",
    "def read_file(path):\n",
    "    file = open(path,\"r\")\n",
    "    lines = file.read()\n",
    "    file.close()\n",
    "    return lines\n",
    "\n",
    "raw_input = '''\n",
    "467..114..\n",
    "...*......\n",
    "..35..633.\n",
    "......#...\n",
    "617*......\n",
    ".....+.58.\n",
    "..592.....\n",
    "......755.\n",
    "...$.*....\n",
    ".664.598..'''\n",
    "\n",
    "print(raw_input)"
   ]
  },
  {
   "cell_type": "code",
   "execution_count": 25,
   "metadata": {},
   "outputs": [
    {
     "name": "stdout",
     "output_type": "stream",
     "text": [
      "(10, 10)\n",
      "4\n",
      "4\n",
      ".\n",
      ".\n",
      "6\n",
      ".\n",
      "7\n",
      ".\n",
      "3\n"
     ]
    }
   ],
   "source": [
    "mod_input = raw_input.strip().split('\\n')\n",
    "\n",
    "def get_dim(matrix:list) -> tuple:\n",
    "    return (len(matrix),len(matrix[0]))\n",
    "\n",
    "print(get_dim(mod_input))\n",
    "\n",
    "\n",
    "def find_cell(matrix:list,coor:tuple) -> str:\n",
    "    x = coor[0]\n",
    "    y = coor[1]\n",
    "    return matrix[y][x]\n",
    "\n",
    "print(find_cell(mod_input,(0,0)))\n",
    "\n",
    "def neighbors(coor:tuple) -> list:\n",
    "    coords = []\n",
    "    for i in [-1,0,1]:\n",
    "        for j in [-1,0,1]:\n",
    "            if (i == 0) and (j == 0): #omit original value\n",
    "                pass\n",
    "            else:\n",
    "                coords.append((coor[0]+i,coor[1]+j))\n",
    "    return coords\n",
    "\n",
    "for i in neighbors((1,1)):\n",
    "    print(find_cell(mod_input,i))\n"
   ]
  }
 ],
 "metadata": {
  "kernelspec": {
   "display_name": "env",
   "language": "python",
   "name": "python3"
  },
  "language_info": {
   "codemirror_mode": {
    "name": "ipython",
    "version": 3
   },
   "file_extension": ".py",
   "mimetype": "text/x-python",
   "name": "python",
   "nbconvert_exporter": "python",
   "pygments_lexer": "ipython3",
   "version": "3.9.6"
  }
 },
 "nbformat": 4,
 "nbformat_minor": 2
}
