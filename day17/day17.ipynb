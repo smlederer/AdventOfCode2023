{
 "cells": [
  {
   "cell_type": "code",
   "execution_count": 1,
   "metadata": {},
   "outputs": [],
   "source": [
    "import sys\n",
    "import os\n",
    "\n",
    "__file__ = 'helper_funcs.py'\n",
    "file_path = os.path.abspath(os.path.join(os.path.dirname( __file__ ), '..'))\n",
    "sys.path.append(file_path)\n",
    "\n",
    "import helper_funcs as hf"
   ]
  },
  {
   "cell_type": "code",
   "execution_count": 4,
   "metadata": {},
   "outputs": [
    {
     "data": {
      "text/plain": [
       "[['2', '4', '1', '3', '4', '3', '2', '3', '1', '1', '3', '2', '3'],\n",
       " ['3', '2', '1', '5', '4', '5', '3', '5', '3', '5', '6', '2', '3'],\n",
       " ['3', '2', '5', '5', '2', '4', '5', '6', '5', '4', '2', '5', '4'],\n",
       " ['3', '4', '4', '6', '5', '8', '5', '8', '4', '5', '4', '5', '2'],\n",
       " ['4', '5', '4', '6', '6', '5', '7', '8', '6', '7', '5', '3', '6'],\n",
       " ['1', '4', '3', '8', '5', '9', '8', '7', '9', '8', '4', '5', '4'],\n",
       " ['4', '4', '5', '7', '8', '7', '6', '9', '8', '7', '7', '6', '6'],\n",
       " ['3', '6', '3', '7', '8', '7', '7', '9', '7', '9', '6', '5', '3'],\n",
       " ['4', '6', '5', '4', '9', '6', '7', '9', '8', '6', '8', '8', '7'],\n",
       " ['4', '5', '6', '4', '6', '7', '9', '9', '8', '6', '4', '5', '3'],\n",
       " ['1', '2', '2', '4', '6', '8', '6', '8', '6', '5', '5', '6', '3'],\n",
       " ['2', '5', '4', '6', '5', '4', '8', '8', '8', '7', '7', '3', '5'],\n",
       " ['4', '3', '2', '2', '6', '7', '4', '6', '5', '5', '5', '3', '3']]"
      ]
     },
     "execution_count": 4,
     "metadata": {},
     "output_type": "execute_result"
    }
   ],
   "source": [
    "raw_input = '''2413432311323\n",
    "3215453535623\n",
    "3255245654254\n",
    "3446585845452\n",
    "4546657867536\n",
    "1438598798454\n",
    "4457876987766\n",
    "3637877979653\n",
    "4654967986887\n",
    "4564679986453\n",
    "1224686865563\n",
    "2546548887735\n",
    "4322674655533'''\n",
    "\n",
    "mod_input = hf.modify_raw(raw_input)\n",
    "M = hf.matrix(mod_input)\n",
    "M.matrix"
   ]
  },
  {
   "cell_type": "code",
   "execution_count": 5,
   "metadata": {},
   "outputs": [
    {
     "data": {
      "text/plain": [
       "'2'"
      ]
     },
     "execution_count": 5,
     "metadata": {},
     "output_type": "execute_result"
    }
   ],
   "source": [
    "M.get_cell(0,0)"
   ]
  }
 ],
 "metadata": {
  "kernelspec": {
   "display_name": "probenv",
   "language": "python",
   "name": "python3"
  },
  "language_info": {
   "codemirror_mode": {
    "name": "ipython",
    "version": 3
   },
   "file_extension": ".py",
   "mimetype": "text/x-python",
   "name": "python",
   "nbconvert_exporter": "python",
   "pygments_lexer": "ipython3",
   "version": "3.11.3"
  }
 },
 "nbformat": 4,
 "nbformat_minor": 2
}
