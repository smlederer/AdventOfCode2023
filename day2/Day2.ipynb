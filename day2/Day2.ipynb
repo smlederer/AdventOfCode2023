{
 "cells": [
  {
   "cell_type": "code",
   "execution_count": 48,
   "metadata": {},
   "outputs": [],
   "source": [
    "# advent of code day 2\n",
    "\n",
    "#did this all wrong, we need to take each game individually, the ; was not a cleaning exercise but an actual \n",
    "#so to do this we need to be able to figure out the instances that go beyond between the ;'s,\n",
    "\n",
    "def read_file(path):\n",
    "    file = open(path,\"r\")\n",
    "    lines = file.read()\n",
    "    file.close()\n",
    "    return lines\n",
    "\n",
    "raw_input = '''\n",
    "Game 1: 3 blue, 4 red; 1 red, 2 green, 6 blue; 2 green\n",
    "Game 2: 1 blue, 2 green; 3 green, 4 blue, 1 red; 1 green, 1 blue\n",
    "Game 3: 8 green, 6 blue, 20 red; 5 blue, 4 red, 13 green; 5 green, 1 red\n",
    "Game 4: 1 green, 3 red, 6 blue; 3 green, 6 red; 3 green, 15 blue, 14 red\n",
    "Game 5: 6 red, 1 blue, 3 green; 2 blue, 1 red, 2 green\n",
    "'''\n",
    "\n",
    "\n",
    "# raw_input = read_file('input.txt')"
   ]
  },
  {
   "cell_type": "code",
   "execution_count": 67,
   "metadata": {},
   "outputs": [
    {
     "name": "stdout",
     "output_type": "stream",
     "text": [
      "{'1': [[[['3', 'blue'], ['4', 'red']], [['1', 'red'], ['2', 'green'], ['6', 'blue']], [['2', 'green']]]], '2': [[[['1', 'blue'], ['2', 'green']], [['3', 'green'], ['4', 'blue'], ['1', 'red']], [['1', 'green'], ['1', 'blue']]]], '3': [[[['8', 'green'], ['6', 'blue'], ['20', 'red']], [['5', 'blue'], ['4', 'red'], ['13', 'green']], [['5', 'green'], ['1', 'red']]]], '4': [[[['1', 'green'], ['3', 'red'], ['6', 'blue']], [['3', 'green'], ['6', 'red']], [['3', 'green'], ['15', 'blue'], ['14', 'red']]]], '5': [[[['6', 'red'], ['1', 'blue'], ['3', 'green']], [['2', 'blue'], ['1', 'red'], ['2', 'green']]]]}\n"
     ]
    }
   ],
   "source": [
    "final_games_dict = {}\n",
    "\n",
    "games = raw_input.strip().split('\\n')\n",
    "\n",
    "for i in games: \n",
    "    games_dict = {}\n",
    "\n",
    "    cleanup = i.split(':')\n",
    "    gamenum = cleanup[0].replace('Game ','')\n",
    "    games = cleanup[1].split(';')\n",
    "    list_of_games = []\n",
    "    z = []\n",
    "    f = [i.strip().strip().split(',') for i in games]\n",
    "\n",
    "\n",
    "    for x in f:\n",
    "        z.append([i.strip().split(' ') for i in x])\n",
    "    list_of_games.append(z)\n",
    "    \n",
    "    final_games_dict.setdefault(gamenum,list_of_games)\n",
    "print(final_games_dict)"
   ]
  },
  {
   "cell_type": "code",
   "execution_count": 49,
   "metadata": {},
   "outputs": [
    {
     "name": "stdout",
     "output_type": "stream",
     "text": [
      "{'1': {'blue': 9, 'red': 5, 'green': 4}, '2': {'blue': 6, 'green': 6, 'red': 1}, '3': {'green': 26, 'blue': 11, 'red': 25}, '4': {'green': 7, 'red': 23, 'blue': 21}, '5': {'red': 7, 'blue': 3, 'green': 5}}\n"
     ]
    }
   ],
   "source": [
    "games = raw_input.replace(';',',').strip().split('\\n')\n",
    "\n",
    "\n",
    "final_games_dict = {}\n",
    "\n",
    "for i in games: \n",
    "    games_dict = {}\n",
    "    #clean up \n",
    "    cleanup = i.split(':')\n",
    "    gamenum = cleanup[0].replace('Game ','')\n",
    "    games = cleanup[1].split(',')\n",
    "    games = [i.strip() for i in games]\n",
    "    games2 = [i.split(' ') for i in games]\n",
    "    for i in games2: \n",
    "        games_dict.setdefault(i[1],0)\n",
    "        games_dict[i[1]] += int(i[0])\n",
    "    final_games_dict.setdefault(gamenum,games_dict)\n",
    "print(final_games_dict)"
   ]
  },
  {
   "cell_type": "code",
   "execution_count": 47,
   "metadata": {},
   "outputs": [
    {
     "name": "stdout",
     "output_type": "stream",
     "text": [
      "59\n",
      "61\n",
      "67\n",
      "68\n",
      "79\n",
      "92\n",
      "426\n"
     ]
    }
   ],
   "source": [
    "count_dict = {'red':12,'green':13,'blue':14}\n",
    "\n",
    "\n",
    "\n",
    "def check_games(game_dict:dict,count_dict:dict):\n",
    "    checks = []\n",
    "    for i in game_dict.items():\n",
    "        for j in count_dict.items():\n",
    "            if i[1][j[0]] > j[1]:\n",
    "                checks.append(i[0])\n",
    "                break\n",
    "    return checks\n",
    "\n",
    "\n",
    "gamenumsum = 0\n",
    "for i in final_games_dict.keys():\n",
    "    if i not in check_games(final_games_dict,count_dict):\n",
    "        print(i)\n",
    "        gamenumsum+=int(i)\n",
    "\n",
    "print(gamenumsum)"
   ]
  },
  {
   "cell_type": "code",
   "execution_count": null,
   "metadata": {},
   "outputs": [],
   "source": []
  }
 ],
 "metadata": {
  "kernelspec": {
   "display_name": "env",
   "language": "python",
   "name": "python3"
  },
  "language_info": {
   "codemirror_mode": {
    "name": "ipython",
    "version": 3
   },
   "file_extension": ".py",
   "mimetype": "text/x-python",
   "name": "python",
   "nbconvert_exporter": "python",
   "pygments_lexer": "ipython3",
   "version": "3.9.6"
  }
 },
 "nbformat": 4,
 "nbformat_minor": 2
}
