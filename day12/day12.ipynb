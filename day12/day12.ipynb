{
 "cells": [
  {
   "cell_type": "code",
   "execution_count": 1,
   "metadata": {},
   "outputs": [],
   "source": [
    "import sys\n",
    "import os\n",
    "\n",
    "__file__ = 'helper_funcs.py'\n",
    "file_path = os.path.abspath(os.path.join(os.path.dirname( __file__ ), '..'))\n",
    "sys.path.append(file_path)\n",
    "\n",
    "import helper_funcs as hf\n"
   ]
  },
  {
   "cell_type": "code",
   "execution_count": 10,
   "metadata": {},
   "outputs": [
    {
     "name": "stdout",
     "output_type": "stream",
     "text": [
      "[['???.###', '1,1,3'], ['.??..??...?##.', '1,1,3'], ['?#?#?#?#?#?#?#?', '1,3,1,6'], ['????.#...#...', '4,1,1'], ['????.######..#####.', '1,6,5'], ['?###????????', '3,2,1']]\n"
     ]
    },
    {
     "data": {
      "text/plain": [
       "{0: {'pattern': '???.###', 'values': [1, 1, 3]},\n",
       " 1: {'pattern': '.??..??...?##.', 'values': [1, 1, 3]},\n",
       " 2: {'pattern': '?#?#?#?#?#?#?#?', 'values': [1, 3, 1, 6]},\n",
       " 3: {'pattern': '????.#...#...', 'values': [4, 1, 1]},\n",
       " 4: {'pattern': '????.######..#####.', 'values': [1, 6, 5]},\n",
       " 5: {'pattern': '?###????????', 'values': [3, 2, 1]}}"
      ]
     },
     "execution_count": 10,
     "metadata": {},
     "output_type": "execute_result"
    }
   ],
   "source": [
    "raw_input = '''???.### 1,1,3\n",
    ".??..??...?##. 1,1,3\n",
    "?#?#?#?#?#?#?#? 1,3,1,6\n",
    "????.#...#... 4,1,1\n",
    "????.######..#####. 1,6,5\n",
    "?###???????? 3,2,1'''\n",
    "\n",
    "mod_input = hf.modify_raw(raw_input)\n",
    "\n",
    "mod_input = [i.split(' ') for i in mod_input]\n",
    "print(mod_input)\n",
    "input_dict = {}\n",
    "for n,i in enumerate(mod_input):\n",
    "    pattern = i[0]\n",
    "    values = [int(x) for  x in i[1].split(',')]\n",
    "    input_dict.setdefault(n,{'pattern':pattern,'values':values})\n",
    "\n",
    "input_dict"
   ]
  },
  {
   "cell_type": "code",
   "execution_count": 15,
   "metadata": {},
   "outputs": [
    {
     "data": {
      "text/plain": [
       "['???', '###']"
      ]
     },
     "execution_count": 15,
     "metadata": {},
     "output_type": "execute_result"
    }
   ],
   "source": [
    "def split_no_rem(s:str,delimiter:str)->str:\n",
    "    final = [i for i in s.split(delimiter) if i != '']\n",
    "    return final\n",
    "split_no_rem('???....###','.')"
   ]
  }
 ],
 "metadata": {
  "kernelspec": {
   "display_name": "env",
   "language": "python",
   "name": "python3"
  },
  "language_info": {
   "codemirror_mode": {
    "name": "ipython",
    "version": 3
   },
   "file_extension": ".py",
   "mimetype": "text/x-python",
   "name": "python",
   "nbconvert_exporter": "python",
   "pygments_lexer": "ipython3",
   "version": "3.9.6"
  }
 },
 "nbformat": 4,
 "nbformat_minor": 2
}
