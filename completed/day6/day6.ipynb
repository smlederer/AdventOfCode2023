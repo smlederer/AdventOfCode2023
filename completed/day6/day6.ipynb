{
 "cells": [
  {
   "cell_type": "code",
   "execution_count": 18,
   "metadata": {},
   "outputs": [
    {
     "name": "stdout",
     "output_type": "stream",
     "text": [
      "[49, 78, 79, 80] [298, 1185, 1066, 1181]\n",
      "2269432\n"
     ]
    }
   ],
   "source": [
    "#day 6 of advent\n",
    "\n",
    "raw_input = '''\n",
    "Time:        49     78     79     80\n",
    "Distance:   298   1185   1066   1181'''\n",
    "\n",
    "def read_file(path):\n",
    "    file = open(path,\"r\")\n",
    "    lines = file.read()\n",
    "    file.close()\n",
    "    return lines\n",
    "\n",
    "def int_list_to_str(input:list)->list:\n",
    "    return [str(i) for i in list(input)]\n",
    "\n",
    "mod_input = raw_input.strip().split('\\n')\n",
    "\n",
    "time = [int(i) for i in mod_input[0].split(':')[1].strip().split()]\n",
    "dist = [int(i) for i in mod_input[1].split(':')[1].strip().split()]\n",
    "\n",
    "print(time,dist)\n",
    "#treat the iteration as the race\n",
    "\n",
    "def distance(hold,time):\n",
    "    mov = time-hold\n",
    "    dist = mov*hold\n",
    "    return dist\n",
    "\n",
    "\n",
    "def get_winners(max_time,record):\n",
    "    ways = 0\n",
    "    for i in range(max_time+1):\n",
    "        if distance(i,max_time) > record:\n",
    "            ways +=1\n",
    "    return ways\n",
    "\n",
    "final = 1\n",
    "for i in range(len(time)):\n",
    "    final *= get_winners(time[i],dist[i])\n",
    "\n",
    "print(final)"
   ]
  },
  {
   "cell_type": "code",
   "execution_count": 19,
   "metadata": {},
   "outputs": [
    {
     "name": "stdout",
     "output_type": "stream",
     "text": [
      "[49787980] [298118510661181]\n",
      "35865985\n"
     ]
    }
   ],
   "source": [
    "#day 6.2\n",
    "\n",
    "raw_input = '''\n",
    "Time:        49787980\n",
    "Distance:   298118510661181'''\n",
    "\n",
    "mod_input = raw_input.strip().split('\\n')\n",
    "\n",
    "time = [int(i) for i in mod_input[0].split(':')[1].strip().split()]\n",
    "dist = [int(i) for i in mod_input[1].split(':')[1].strip().split()]\n",
    "\n",
    "print(time,dist)\n",
    "#treat the iteration as the race\n",
    "\n",
    "def distance(hold,time):\n",
    "    mov = time-hold\n",
    "    dist = mov*hold\n",
    "    return dist\n",
    "\n",
    "\n",
    "def get_winners(max_time,record):\n",
    "    ways = 0\n",
    "    for i in range(max_time+1):\n",
    "        if distance(i,max_time) > record:\n",
    "            ways +=1\n",
    "    return ways\n",
    "\n",
    "final = 1\n",
    "for i in range(len(time)):\n",
    "    final *= get_winners(time[i],dist[i])\n",
    "\n",
    "print(final)"
   ]
  }
 ],
 "metadata": {
  "kernelspec": {
   "display_name": "probenv",
   "language": "python",
   "name": "python3"
  },
  "language_info": {
   "codemirror_mode": {
    "name": "ipython",
    "version": 3
   },
   "file_extension": ".py",
   "mimetype": "text/x-python",
   "name": "python",
   "nbconvert_exporter": "python",
   "pygments_lexer": "ipython3",
   "version": "3.11.3"
  }
 },
 "nbformat": 4,
 "nbformat_minor": 2
}
