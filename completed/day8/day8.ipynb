{
 "cells": [
  {
   "cell_type": "code",
   "execution_count": 1,
   "metadata": {},
   "outputs": [],
   "source": [
    "import sys\n",
    "import os\n",
    "\n",
    "__file__ = 'helper_funcs.py'\n",
    "file_path = os.path.abspath(os.path.join(os.path.dirname( __file__ ), '..'))\n",
    "sys.path.append(file_path)\n",
    "\n",
    "import helper_funcs as hf\n"
   ]
  },
  {
   "cell_type": "code",
   "execution_count": 4,
   "metadata": {},
   "outputs": [],
   "source": [
    "#part 1\n",
    "\n",
    "# raw_input = '''\n",
    "# RL\n",
    "\n",
    "# AAA = (BBB, CCC)\n",
    "# BBB = (DDD, EEE)\n",
    "# CCC = (ZZZ, GGG)\n",
    "# DDD = (DDD, DDD)\n",
    "# EEE = (EEE, EEE)\n",
    "# GGG = (GGG, GGG)\n",
    "# ZZZ = (ZZZ, ZZZ)\n",
    "# '''\n",
    "\n",
    "# raw_input = '''\n",
    "# LLR\n",
    "\n",
    "# AAA = (BBB, BBB)\n",
    "# BBB = (AAA, ZZZ)\n",
    "# ZZZ = (ZZZ, ZZZ)\n",
    "# '''\n",
    "\n",
    "raw_input = hf.read_file('input.txt')\n",
    "\n",
    "mod_input = hf.modify_raw(raw_input)\n",
    "\n",
    "guide = mod_input[0]\n",
    "\n",
    "def create_map_dict(modified_input:list):\n",
    "    map_dict = {}\n",
    "    for i in modified_input[2:]:\n",
    "        data = i.split(' = ')\n",
    "        key = data[0]\n",
    "        map_dict.setdefault(key,{'L':'','R':''})\n",
    "        for n,j in enumerate(data[1].split(', ')):\n",
    "            temp = j.replace('(','').replace(')','')\n",
    "            if n == 0:\n",
    "                map_dict[key]['L'] = temp\n",
    "            else:\n",
    "                map_dict[key]['R'] = temp \n",
    "\n",
    "    return map_dict\n",
    "\n",
    "map_dict = create_map_dict(mod_input)"
   ]
  },
  {
   "cell_type": "code",
   "execution_count": 5,
   "metadata": {},
   "outputs": [
    {
     "name": "stdout",
     "output_type": "stream",
     "text": [
      "10000\n"
     ]
    },
    {
     "data": {
      "text/plain": [
       "19099"
      ]
     },
     "execution_count": 5,
     "metadata": {},
     "output_type": "execute_result"
    }
   ],
   "source": [
    "def walk(map:dict,guide:str):\n",
    "    current_node = 'AAA'\n",
    "    path_count =0\n",
    "    guide_len = len(guide)\n",
    "    it = 0\n",
    "\n",
    "    while current_node != 'ZZZ':\n",
    "        next_node = map[current_node][guide[it%guide_len]]\n",
    "        current_node = next_node\n",
    "        it += 1\n",
    "        #print(current_node)\n",
    "        if it > 10000000000:\n",
    "            break\n",
    "        if it%10000==0:\n",
    "            print(it)\n",
    "    return it\n",
    "\n",
    "\n",
    "walk(map_dict,guide)\n",
    "\n",
    "#change list to just a number of steps. \n"
   ]
  },
  {
   "cell_type": "code",
   "execution_count": 22,
   "metadata": {},
   "outputs": [
    {
     "name": "stdout",
     "output_type": "stream",
     "text": [
      "{'HVA': {'stop': 'HVZ', 'current_node': 'HVA'}, 'LBA': {'stop': 'LBZ', 'current_node': 'LBA'}, 'FXA': {'stop': 'FXZ', 'current_node': 'FXA'}, 'GHA': {'stop': 'GHZ', 'current_node': 'GHA'}, 'PSA': {'stop': 'PSZ', 'current_node': 'PSA'}, 'AAA': {'stop': 'AAZ', 'current_node': 'AAA'}}\n"
     ]
    }
   ],
   "source": [
    "#part 2\n",
    "\n",
    "# raw_input = '''\n",
    "# LR\n",
    "\n",
    "# 11A = (11B, XXX)\n",
    "# 11B = (XXX, 11Z)\n",
    "# 11Z = (11B, XXX)\n",
    "# 22A = (22B, XXX)\n",
    "# 22B = (22C, 22C)\n",
    "# 22C = (22Z, 22Z)\n",
    "# 22Z = (22B, 22B)\n",
    "# XXX = (XXX, XXX)'''\n",
    "\n",
    "raw_input = hf.read_file('input.txt')\n",
    "\n",
    "mod_input = hf.modify_raw(raw_input)\n",
    "\n",
    "guide = mod_input[0]\n",
    "\n",
    "def find_starts_and_stops(input_map:dict):\n",
    "    start_list = []\n",
    "    stop_list = []\n",
    "    for i in list(input_map.keys()):\n",
    "        if i.endswith('A'):\n",
    "            start_list.append(i)\n",
    "            stop_list.append(i[0:2]+'Z')\n",
    "\n",
    "    return start_list, stop_list\n",
    "\n",
    "\n",
    "\n",
    "def multi_walk(input_map:dict,guide:str,starts:list):\n",
    "    data = {}\n",
    "    flag = 0\n",
    "    walk_dict = {}\n",
    "    guide_len = len(guide)\n",
    "    it = 0\n",
    "    for i in starts:\n",
    "        walk_dict.setdefault(i,{'stop':i[0:2]+'Z','current_node':i})\n",
    "    print(walk_dict)\n",
    "    while flag != len(starts):\n",
    "        flag = 0\n",
    "        for j in walk_dict.keys():\n",
    "            data.setdefault(j,[])\n",
    "            next_node = input_map[walk_dict[j]['current_node']][guide[it%guide_len]]\n",
    "            walk_dict[j]['current_node'] = next_node\n",
    "            if walk_dict[j]['current_node'].endswith('Z'):\n",
    "                data[j].append(it+1)\n",
    "                flag += 1\n",
    "                if flag > 1:\n",
    "                    print(it,walk_dict[j])\n",
    "        it+=1\n",
    "        if it > 100000:\n",
    "            break\n",
    "\n",
    "\n",
    "\n",
    "        #         while current_node != 'ZZZ':\n",
    "        # next_node = map[current_node][guide[it%guide_len]]\n",
    "        # current_node = next_node\n",
    "        # it += 1\n",
    "        # #print(current_node)\n",
    "        # if it > 10000000000:\n",
    "        #     break\n",
    "        # if it%10000==0:\n",
    "        #     print(it)\n",
    "\n",
    "\n",
    "\n",
    "    return data\n",
    "        \n",
    "\n",
    "map_input = create_map_dict(mod_input)\n",
    "starts, stops = find_starts_and_stops(map_input)\n",
    "data = multi_walk(map_input,guide,starts)\n",
    "\n"
   ]
  },
  {
   "cell_type": "code",
   "execution_count": 29,
   "metadata": {},
   "outputs": [
    {
     "name": "stdout",
     "output_type": "stream",
     "text": [
      "269\n"
     ]
    }
   ],
   "source": [
    "def gcd_multi(x,y)->int:\n",
    "    divisor = x\n",
    "    remainder = y\n",
    "    while remainder:\n",
    "        divisor,remainder = remainder,divisor%remainder\n",
    "    return divisor\n",
    "\n",
    "\n",
    "n = [i[0] for i in list(data.values())]\n",
    "\n",
    "gcd_init = gcd_multi(n[0],n[1])\n",
    "for i in range(2,len(n)):\n",
    "    gcd_init = gcd_multi(gcd_init,n[i])\n",
    "\n",
    "print(gcd_init)"
   ]
  },
  {
   "cell_type": "code",
   "execution_count": 30,
   "metadata": {},
   "outputs": [
    {
     "data": {
      "text/plain": [
       "{'HVA': [15871, 31742, 47613, 63484, 79355, 95226],\n",
       " 'LBA': [16409, 32818, 49227, 65636, 82045, 98454],\n",
       " 'FXA': [21251, 42502, 63753, 85004],\n",
       " 'GHA': [18023, 36046, 54069, 72092, 90115],\n",
       " 'PSA': [12643, 25286, 37929, 50572, 63215, 75858, 88501],\n",
       " 'AAA': [19099, 38198, 57297, 76396, 95495]}"
      ]
     },
     "execution_count": 30,
     "metadata": {},
     "output_type": "execute_result"
    }
   ],
   "source": [
    "data"
   ]
  },
  {
   "cell_type": "code",
   "execution_count": 31,
   "metadata": {},
   "outputs": [
    {
     "data": {
      "text/plain": [
       "5716519"
      ]
     },
     "execution_count": 31,
     "metadata": {},
     "output_type": "execute_result"
    }
   ],
   "source": [
    "21251*269\n",
    "#5716519 too low"
   ]
  }
 ],
 "metadata": {
  "kernelspec": {
   "display_name": "probenv",
   "language": "python",
   "name": "python3"
  },
  "language_info": {
   "codemirror_mode": {
    "name": "ipython",
    "version": 3
   },
   "file_extension": ".py",
   "mimetype": "text/x-python",
   "name": "python",
   "nbconvert_exporter": "python",
   "pygments_lexer": "ipython3",
   "version": "3.11.3"
  }
 },
 "nbformat": 4,
 "nbformat_minor": 2
}
