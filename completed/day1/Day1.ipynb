{
 "cells": [
  {
   "cell_type": "code",
   "execution_count": 4,
   "metadata": {},
   "outputs": [
    {
     "data": {
      "text/plain": [
       "11"
      ]
     },
     "execution_count": 4,
     "metadata": {},
     "output_type": "execute_result"
    }
   ],
   "source": [
    "#advent of coding day 1\n",
    "\n",
    "def find_digits(text:str)->list:\n",
    "    dig = []\n",
    "    for i in text:\n",
    "        if i.isnumeric():\n",
    "            dig.append(i)\n",
    "    return dig\n",
    "\n",
    "\n",
    "def first_last_concat(digits:list)->int:\n",
    "    return int(''.join([digits[0],digits[-1]]))\n",
    "\n",
    "first_last_concat(find_digits('eightgndhmrfouronexldvdvqnzxqjczfk1'))"
   ]
  },
  {
   "cell_type": "code",
   "execution_count": 29,
   "metadata": {},
   "outputs": [
    {
     "name": "stdout",
     "output_type": "stream",
     "text": [
      "54644\n"
     ]
    }
   ],
   "source": [
    "def read_file(path):\n",
    "    file = open(path,\"r\")\n",
    "    lines = file.read()\n",
    "    file.close()\n",
    "    return lines\n",
    "\n",
    "command = read_file('C:/Users/samml/Documents/PyProj/GPurp/AdventOfCode/day1_text').split('\\n')\n",
    "total = 0\n",
    "for i in command:\n",
    "    if i !='':\n",
    "        total+=first_last_concat(find_digits(i))\n",
    "\n",
    "print(total)\n"
   ]
  },
  {
   "cell_type": "code",
   "execution_count": 46,
   "metadata": {},
   "outputs": [
    {
     "data": {
      "text/plain": [
       "53348"
      ]
     },
     "execution_count": 46,
     "metadata": {},
     "output_type": "execute_result"
    }
   ],
   "source": [
    "\n",
    "#advent of code 1.2\n",
    "\n",
    "library = {'one':1,'two':2,'three':3,'four':4,'five':5,'six':6,'seven':7,'eight':8,'nine':9}\n",
    "\n",
    "def number_string_first_last_find(text):\n",
    "    index_order = {}\n",
    "    for i in list(library.keys()) + list(library.values()):\n",
    "        indicies = [j for j in range(len(text)) if text.startswith(str(i),j)]\n",
    "        for k in indicies:\n",
    "            if str(i).isnumeric():\n",
    "                index_order[k] = i\n",
    "            else:\n",
    "                index_order[k] = library[i]\n",
    "\n",
    "    index_order = dict(sorted(index_order.items()))\n",
    "    v = list(index_order.values())\n",
    "    return int(''.join([str(v[0]),str(v[-1])]))\n",
    "\n",
    "\n",
    "day1_2_list = []\n",
    "for i in command: #x.split('\\n'):\n",
    "    if i != '':\n",
    "        day1_2_list.append(number_string_first_last_find(i))\n",
    "\n",
    "sum(day1_2_list)"
   ]
  }
 ],
 "metadata": {
  "kernelspec": {
   "display_name": "probenv",
   "language": "python",
   "name": "python3"
  },
  "language_info": {
   "codemirror_mode": {
    "name": "ipython",
    "version": 3
   },
   "file_extension": ".py",
   "mimetype": "text/x-python",
   "name": "python",
   "nbconvert_exporter": "python",
   "pygments_lexer": "ipython3",
   "version": "3.11.3"
  }
 },
 "nbformat": 4,
 "nbformat_minor": 2
}
