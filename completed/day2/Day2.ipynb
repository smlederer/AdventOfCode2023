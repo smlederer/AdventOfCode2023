{
 "cells": [
  {
   "cell_type": "code",
   "execution_count": 181,
   "metadata": {},
   "outputs": [],
   "source": [
    "# advent of code day 2\n",
    "\n",
    "#did this all wrong, we need to take each game individually, the ; was not a cleaning exercise but an actual \n",
    "#so to do this we need to be able to figure out the instances that go beyond between the ;'s,\n",
    "\n",
    "def read_file(path):\n",
    "    file = open(path,\"r\")\n",
    "    lines = file.read()\n",
    "    file.close()\n",
    "    return lines\n",
    "\n",
    "# raw_input = '''\n",
    "# Game 1: 3 blue, 4 red; 1 red, 2 green, 6 blue; 2 green\n",
    "# Game 2: 1 blue, 2 green; 3 green, 4 blue, 1 red; 1 green, 1 blue\n",
    "# Game 3: 8 green, 6 blue, 20 red; 5 blue, 4 red, 13 green; 5 green, 1 red\n",
    "# Game 4: 1 green, 3 red, 6 blue; 3 green, 6 red; 3 green, 15 blue, 14 red\n",
    "# Game 5: 6 red, 1 blue, 3 green; 2 blue, 1 red, 2 green\n",
    "# '''\n",
    "\n",
    "\n",
    "raw_input = read_file('input.txt')\n",
    "\n",
    "\n",
    "\n",
    "def parse_all_rounds(game:str) -> dict:\n",
    "    max_counts = {}\n",
    "    parts = game.split(':')\n",
    "    gamenum = parts[0].replace('Game ','')\n",
    "    gamedata = parts[1].strip().split(';')\n",
    "    \n",
    "    for i in gamedata: \n",
    "        d = i.strip().split(',')\n",
    "        e = [i.strip().split(' ') for i in d]\n",
    "        for j in e:\n",
    "            count = int(j[0])\n",
    "            name = j[1]\n",
    "            max_counts.setdefault(name,0)\n",
    "\n",
    "\n",
    "            if int(max_counts[name])<count:\n",
    "                max_counts[name] = count\n",
    "\n",
    "    return max_counts\n",
    "\n",
    "\n",
    "count_dict = {'red':12,'green':13,'blue':14}\n",
    "\n",
    "def check_game(game_parsed:dict,checker:dict) -> bool:\n",
    "    for j in checker.items():\n",
    "        if game_parsed[j[0]] > j[1]:\n",
    "            return False\n",
    "\n",
    "    return True"
   ]
  },
  {
   "cell_type": "code",
   "execution_count": 169,
   "metadata": {},
   "outputs": [
    {
     "data": {
      "text/plain": [
       "2795"
      ]
     },
     "execution_count": 169,
     "metadata": {},
     "output_type": "execute_result"
    }
   ],
   "source": [
    "passed = []\n",
    "for i,k in enumerate(raw_input.strip().split('\\n')):\n",
    "    game = parse_all_rounds(k)\n",
    "    if check_game(game,count_dict):\n",
    "        passed.append(i+1)\n",
    "sum(passed)"
   ]
  },
  {
   "cell_type": "code",
   "execution_count": 187,
   "metadata": {},
   "outputs": [
    {
     "name": "stdout",
     "output_type": "stream",
     "text": [
      "75561\n"
     ]
    }
   ],
   "source": [
    "#day 2 part 2\n",
    "\n",
    "def power_vector(vector:list):\n",
    "    init = 1\n",
    "    for i in vector:\n",
    "        init *= int(i)\n",
    "    return init\n",
    "\n",
    "total = 0\n",
    "for i,k in enumerate(raw_input.strip().split('\\n')):\n",
    "    total += power_vector(list(parse_all_rounds(k).values()))\n",
    "\n",
    "print(total)"
   ]
  }
 ],
 "metadata": {
  "kernelspec": {
   "display_name": "env",
   "language": "python",
   "name": "python3"
  },
  "language_info": {
   "codemirror_mode": {
    "name": "ipython",
    "version": 3
   },
   "file_extension": ".py",
   "mimetype": "text/x-python",
   "name": "python",
   "nbconvert_exporter": "python",
   "pygments_lexer": "ipython3",
   "version": "3.9.6"
  }
 },
 "nbformat": 4,
 "nbformat_minor": 2
}
