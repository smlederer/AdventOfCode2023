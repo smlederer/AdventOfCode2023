{
 "cells": [
  {
   "cell_type": "code",
   "execution_count": 1,
   "metadata": {},
   "outputs": [],
   "source": [
    "import sys\n",
    "import os\n",
    "\n",
    "__file__ = 'helper_funcs.py'\n",
    "file_path = os.path.abspath(os.path.join(os.path.dirname( __file__ ), '..'))\n",
    "sys.path.append(file_path)\n",
    "\n",
    "import helper_funcs as hf\n"
   ]
  },
  {
   "cell_type": "code",
   "execution_count": 7,
   "metadata": {},
   "outputs": [
    {
     "name": "stdout",
     "output_type": "stream",
     "text": [
      "[['???.###', '1,1,3'], ['.??..??...?##.', '1,1,3'], ['?#?#?#?#?#?#?#?', '1,3,1,6'], ['????.#...#...', '4,1,1'], ['????.######..#####.', '1,6,5'], ['?###????????', '3,2,1']]\n"
     ]
    },
    {
     "data": {
      "text/plain": [
       "{0: {'start': '???.###', 'values': [1, 1, 3]},\n",
       " 1: {'start': '.??..??...?##.', 'values': [1, 1, 3]},\n",
       " 2: {'start': '?#?#?#?#?#?#?#?', 'values': [1, 3, 1, 6]},\n",
       " 3: {'start': '????.#...#...', 'values': [4, 1, 1]},\n",
       " 4: {'start': '????.######..#####.', 'values': [1, 6, 5]},\n",
       " 5: {'start': '?###????????', 'values': [3, 2, 1]}}"
      ]
     },
     "execution_count": 7,
     "metadata": {},
     "output_type": "execute_result"
    }
   ],
   "source": [
    "raw_input = '''???.### 1,1,3\n",
    ".??..??...?##. 1,1,3\n",
    "?#?#?#?#?#?#?#? 1,3,1,6\n",
    "????.#...#... 4,1,1\n",
    "????.######..#####. 1,6,5\n",
    "?###???????? 3,2,1'''\n",
    "\n",
    "# raw_input = hf.read_file('input.txt')\n",
    "\n",
    "mod_input = hf.modify_raw(raw_input)\n",
    "\n",
    "mod_input = [i.split(' ') for i in mod_input]\n",
    "print(mod_input)\n",
    "input_dict = {}\n",
    "for n,i in enumerate(mod_input):\n",
    "    start = i[0]\n",
    "    values = [int(x) for  x in i[1].split(',')]\n",
    "    input_dict.setdefault(n,{'start':start,'values':values})\n",
    "\n",
    "input_dict"
   ]
  },
  {
   "cell_type": "code",
   "execution_count": 16,
   "metadata": {},
   "outputs": [
    {
     "name": "stdout",
     "output_type": "stream",
     "text": [
      "16.7%\n",
      "33.3%\n",
      "50.0%\n",
      "66.7%\n",
      "83.3%\n",
      "100.0%\n",
      "21\n"
     ]
    }
   ],
   "source": [
    "def split_no_rem(s:str,delimiter:str)->str:\n",
    "    final = [i for i in s.split(delimiter) if i != '']\n",
    "    return final\n",
    "\n",
    "def check_counter(string:str):\n",
    "    check_count = []\n",
    "    for i in (split_no_rem(string,'.')):\n",
    "        check_count.append(len(i))\n",
    "    return check_count\n",
    "\n",
    "\n",
    "def find_combos(starting_pattern:str,pattern_int:list)->list:\n",
    "    tot = sum(pattern_int)\n",
    "    queue = list([starting_pattern])\n",
    "    next_queue = []\n",
    "    for i in range(len(starting_pattern)):\n",
    "        while len(queue)>0:\n",
    "            if queue[0][i] in ('.','#'):\n",
    "                next_queue.append(queue[0])\n",
    "            elif queue[0][i] == '?':\n",
    "                if tot < count_search_string(queue[0][i],'#'):\n",
    "                    pass\n",
    "                else:\n",
    "                    for j in ('#','.'):\n",
    "                        tmp = list(queue[0])\n",
    "                        tmp[i] = j\n",
    "                        next_queue.append(''.join(tmp))\n",
    "            queue.pop(0)\n",
    "        queue = next_queue\n",
    "        next_queue = []\n",
    "    return queue\n",
    "\n",
    "\n",
    "\n",
    "def count_possible(list_of_patterns:list,value:list)->int:\n",
    "    total = 0\n",
    "    for i in list_of_patterns:\n",
    "        if check_counter(i) == value:\n",
    "            total += 1\n",
    "    \n",
    "    return total\n",
    "\n",
    "\n",
    "def count_search_string(string:str,key:str):\n",
    "    count = 0\n",
    "    for i in string:\n",
    "        if i == key:\n",
    "            count +=1\n",
    "    return count\n",
    "\n",
    "pat = input_dict[0]['start']\n",
    "values = input_dict[0]['values']\n",
    "tot = 0\n",
    "progress_len = len(input_dict)\n",
    "z = 0\n",
    "for i in input_dict.keys():\n",
    "    z+=1\n",
    "    pat = input_dict[i]['start']\n",
    "    values = input_dict[i]['values']\n",
    "\n",
    "    x = find_combos(pat,values)\n",
    "    print(f'{z/progress_len*100:.1f}%')\n",
    "    tot += count_possible(x,values)\n",
    "\n",
    "print(tot)\n",
    "\n",
    "# while len(stack)>0:\n",
    "#     i = 0\n",
    "#     if stack[i] in ('.','#'):\n",
    "#         pass\n",
    "#     if stack[i] == '?':\n",
    "#         test_dict.setdefault(i,)\n",
    "#         i+=1\n",
    "#         test_dict.set_default(i,)"
   ]
  },
  {
   "cell_type": "code",
   "execution_count": 4,
   "metadata": {},
   "outputs": [
    {
     "data": {
      "text/plain": [
       "True"
      ]
     },
     "execution_count": 4,
     "metadata": {},
     "output_type": "execute_result"
    }
   ],
   "source": [
    "sorted([3,1,1]) == sorted([1,1,3])"
   ]
  },
  {
   "cell_type": "code",
   "execution_count": 20,
   "metadata": {},
   "outputs": [
    {
     "data": {
      "text/plain": [
       "{0: {'start': '???.###???.###???.###???.###???.###',\n",
       "  'values': [1, 1, 3, 1, 1, 3, 1, 1, 3, 1, 1, 3, 1, 1, 3]},\n",
       " 1: {'start': '.??..??...?##..??..??...?##..??..??...?##..??..??...?##..??..??...?##.',\n",
       "  'values': [1, 1, 3, 1, 1, 3, 1, 1, 3, 1, 1, 3, 1, 1, 3]},\n",
       " 2: {'start': '?#?#?#?#?#?#?#??#?#?#?#?#?#?#??#?#?#?#?#?#?#??#?#?#?#?#?#?#??#?#?#?#?#?#?#?',\n",
       "  'values': [1, 3, 1, 6, 1, 3, 1, 6, 1, 3, 1, 6, 1, 3, 1, 6, 1, 3, 1, 6]},\n",
       " 3: {'start': '????.#...#...????.#...#...????.#...#...????.#...#...????.#...#...',\n",
       "  'values': [4, 1, 1, 4, 1, 1, 4, 1, 1, 4, 1, 1, 4, 1, 1]},\n",
       " 4: {'start': '????.######..#####.????.######..#####.????.######..#####.????.######..#####.????.######..#####.',\n",
       "  'values': [1, 6, 5, 1, 6, 5, 1, 6, 5, 1, 6, 5, 1, 6, 5]},\n",
       " 5: {'start': '?###?????????###?????????###?????????###?????????###????????',\n",
       "  'values': [3, 2, 1, 3, 2, 1, 3, 2, 1, 3, 2, 1, 3, 2, 1]}}"
      ]
     },
     "execution_count": 20,
     "metadata": {},
     "output_type": "execute_result"
    }
   ],
   "source": [
    "#part 2:\n",
    "\n",
    "p2_input_dict = {}\n",
    "for key,values in input_dict.items():\n",
    "    p2_input_dict[key] = {'start':values['start']*5,'values':values['values']*5}\n",
    "\n",
    "p2_input_dict"
   ]
  },
  {
   "cell_type": "code",
   "execution_count": 74,
   "metadata": {},
   "outputs": [
    {
     "name": "stdout",
     "output_type": "stream",
     "text": [
      "???.### [1, 1, 3]\n"
     ]
    }
   ],
   "source": [
    "pattern = input_dict[0]['start']\n",
    "values = list(map(int,input_dict[0]['values']))\n",
    "\n",
    "print(pattern,values)"
   ]
  },
  {
   "cell_type": "code",
   "execution_count": 76,
   "metadata": {},
   "outputs": [
    {
     "data": {
      "text/plain": [
       "0"
      ]
     },
     "execution_count": 76,
     "metadata": {},
     "output_type": "execute_result"
    }
   ],
   "source": [
    "\n",
    "\n",
    "# def pattern_find(string:str):\n",
    "#     for n,i in enumerate(string):\n",
    "#         if i == '?':\n",
    "#             if n == len(i)-1:\n",
    "#                 for j in ('#','.'):\n",
    "#                     tmp = list(i)\n",
    "#                     tmp[n] = j\n",
    "#                     return ''.join(tmp)\n",
    "#             else:\n",
    "#                 print(''.join(pattern_find(string[n:])))\n",
    "\n",
    "# pattern_find(pattern)\n",
    "\n",
    "\n",
    "# def pattern_find(string:str):\n",
    "#     f_list = []\n",
    "#     string = list(string)\n",
    "#     for n,i in enumerate(string):\n",
    "#         if i == '?':\n",
    "#             for j in ['#','.']:\n",
    "#                 string[n]=j\n",
    "#                 print(pattern_find(string[n:]))\n",
    "\n",
    "#         if n == len(string)-1:\n",
    "#             return string\n",
    "        \n",
    "\n",
    "# pattern_find(pattern)\n",
    "\n",
    "\n",
    "def recur_count(pattern,values):\n",
    "    if pattern == '':\n",
    "        return 1 if values == () else 0 #if there are no more nums and values left return 1\n",
    "    if values ==():\n",
    "        return 0 if \"#\" in pattern else 1 #checks if there are # leftover that it wasn't expecting. \n",
    "    \n",
    "    result = 0\n",
    "\n",
    "    if pattern[0] in \".?\":\n",
    "        result += recur_count(pattern[1:],values)\n",
    "    \n",
    "    if pattern[0] in \"#?\":\n",
    "        if values[0]<= len(cfg)\n",
    "\n",
    "recur_count('',\n"
   ]
  },
  {
   "cell_type": "code",
   "execution_count": 71,
   "metadata": {},
   "outputs": [
    {
     "data": {
      "text/plain": [
       "<map at 0x19cc859b1c0>"
      ]
     },
     "execution_count": 71,
     "metadata": {},
     "output_type": "execute_result"
    }
   ],
   "source": [
    "map(int,[1,2,3])"
   ]
  }
 ],
 "metadata": {
  "kernelspec": {
   "display_name": "env",
   "language": "python",
   "name": "python3"
  },
  "language_info": {
   "codemirror_mode": {
    "name": "ipython",
    "version": 3
   },
   "file_extension": ".py",
   "mimetype": "text/x-python",
   "name": "python",
   "nbconvert_exporter": "python",
   "pygments_lexer": "ipython3",
   "version": "3.11.3"
  }
 },
 "nbformat": 4,
 "nbformat_minor": 2
}
