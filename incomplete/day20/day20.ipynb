{
 "cells": [
  {
   "cell_type": "code",
   "execution_count": 2,
   "metadata": {},
   "outputs": [],
   "source": [
    "import sys\n",
    "import os\n",
    "\n",
    "__file__ = 'helper_funcs.py'\n",
    "file_path = os.path.abspath(os.path.join(os.path.dirname( __file__ ), '..'))\n",
    "sys.path.append(file_path)\n",
    "\n",
    "import helper_funcs as hf"
   ]
  },
  {
   "cell_type": "code",
   "execution_count": 20,
   "metadata": {},
   "outputs": [
    {
     "name": "stdout",
     "output_type": "stream",
     "text": [
      "{'broadcaster': {'connections': ['a', 'b', 'c'], 'type': 'b'}, 'a': {'connections': ['b'], 'type': '%', 'status': 'off'}, 'b': {'connections': ['c'], 'type': '%', 'status': 'off'}, 'c': {'connections': ['inv'], 'type': '%', 'status': 'off'}, 'inv': {'connections': ['a'], 'type': '&', 'last_pulse': ['low']}}\n",
      "{0: [('a', 'low'), ('b', 'low'), ('c', 'low')], 1: [('a', 'low'), ('b', 'low'), ('c', 'low')], 2: [('a', 'low'), ('b', 'low'), ('c', 'low')], 3: [('a', 'low'), ('b', 'low'), ('c', 'low')], 4: [('a', 'low'), ('b', 'low'), ('c', 'low')], 5: [('a', 'low'), ('b', 'low'), ('c', 'low')], 6: [('a', 'low'), ('b', 'low'), ('c', 'low')], 7: [('a', 'low'), ('b', 'low'), ('c', 'low')], 8: [('a', 'low'), ('b', 'low'), ('c', 'low')], 9: [('a', 'low'), ('b', 'low'), ('c', 'low')], 10: [('a', 'low'), ('b', 'low'), ('c', 'low')], 11: [('a', 'low'), ('b', 'low'), ('c', 'low')], 12: [('a', 'low'), ('b', 'low'), ('c', 'low')], 13: [('a', 'low'), ('b', 'low'), ('c', 'low')], 14: [('a', 'low'), ('b', 'low'), ('c', 'low')], 15: [('a', 'low'), ('b', 'low'), ('c', 'low')], 16: [('a', 'low'), ('b', 'low'), ('c', 'low')], 17: [('a', 'low'), ('b', 'low'), ('c', 'low')], 18: [('a', 'low'), ('b', 'low'), ('c', 'low')], 19: [('a', 'low'), ('b', 'low'), ('c', 'low')]}\n"
     ]
    }
   ],
   "source": [
    "raw_input = r'''\n",
    "broadcaster -> a, b, c\n",
    "%a -> b\n",
    "%b -> c\n",
    "%c -> inv\n",
    "&inv -> a'''\n",
    "\n",
    "\n",
    "mod_input = hf.modify_raw(raw_input)\n",
    "\n",
    "switch_dic = {}\n",
    "for i in [x.split('->') for x in mod_input]:\n",
    "    name = i[0].strip().replace('%','').replace('&','')\n",
    "    switch_dic.setdefault(name,{})\n",
    "    switch_dic[name] = {'connections':[z.strip() for z in i[1].split(',')],'type':i[0][0]}\n",
    "    if switch_dic[name]['type'] == '%':\n",
    "        switch_dic[name]['status'] = 'off'\n",
    "    if switch_dic[name]['type'] == '&':\n",
    "        switch_dic[name]['last_pulse'] = ['low' for i in switch_dic[name]['connections']]\n",
    "\n",
    "print(switch_dic)\n",
    "\n",
    "\n",
    "curr_node = 'broadcaster'\n",
    "curr_pulse = 'low'\n",
    "ticker = {}\n",
    "for i in range(20):\n",
    "    for j in switch_dic[curr_node]['connections']:\n",
    "        ticker.setdefault(i,[])\n",
    "        # handle_pulse\n",
    "        ticker[i].append(tuple([j,curr_pulse]))\n",
    "    \n",
    "\n",
    "print(ticker)\n",
    "\n"
   ]
  }
 ],
 "metadata": {
  "kernelspec": {
   "display_name": "probenv",
   "language": "python",
   "name": "python3"
  },
  "language_info": {
   "codemirror_mode": {
    "name": "ipython",
    "version": 3
   },
   "file_extension": ".py",
   "mimetype": "text/x-python",
   "name": "python",
   "nbconvert_exporter": "python",
   "pygments_lexer": "ipython3",
   "version": "3.11.3"
  }
 },
 "nbformat": 4,
 "nbformat_minor": 2
}
