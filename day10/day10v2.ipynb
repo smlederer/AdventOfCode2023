{
 "cells": [
  {
   "cell_type": "code",
   "execution_count": 1,
   "metadata": {},
   "outputs": [],
   "source": [
    "import sys\n",
    "import os\n",
    "\n",
    "__file__ = 'helper_funcs.py'\n",
    "file_path = os.path.abspath(os.path.join(os.path.dirname( __file__ ), '..'))\n",
    "sys.path.append(file_path)\n",
    "\n",
    "import helper_funcs as hf"
   ]
  },
  {
   "cell_type": "code",
   "execution_count": 2,
   "metadata": {},
   "outputs": [],
   "source": [
    "# raw_input = '''.....\n",
    "# .S-7.\n",
    "# .|.|.\n",
    "# .L-J.\n",
    "# .....'''\n",
    "\n",
    "# raw_input = '''\n",
    "# ..F7.\n",
    "# .FJ|.\n",
    "# SJ.L7\n",
    "# |F--J\n",
    "# LJ...'''\n",
    "\n",
    "raw_input = hf.read_file('input.txt')\n",
    "\n",
    "mod_input = hf.modify_raw(raw_input)\n",
    "mod_input\n",
    "\n",
    "M = hf.matrix(mod_input)\n",
    "new_M = hf.matrix(matrix_list=None,empty_x=M.dimension[0],empty_y=M.dimension[1])\n",
    "\n",
    "pipe_dict = {\n",
    "    '|':{'N':'p','E':'x','S':'p','W':'x'},\n",
    "    'L':{'N':'p','E':'p','S':'x','W':'x'},\n",
    "    'J':{'N':'p','E':'x','S':'x','W':'p'},\n",
    "    '7':{'N':'x','E':'x','S':'p','W':'p'},\n",
    "    'F':{'N':'x','E':'p','S':'p','W':'x'},\n",
    "    '.':{'N':'x','E':'x','S':'x','W':'x'},\n",
    "    '-':{'N':'x','E':'p','S':'x','W':'p'},\n",
    "    'S':{'N':'p','E':'p','S':'p','W':'p'}\n",
    "}\n",
    "\n",
    "anti_dir_dict = {'N':'S','E':'W','S':'N','W':'E'}\n",
    "\n",
    "direc = {'S':[0,1],'E':[1,0],'W':[-1,0],'N':[0,-1]}"
   ]
  },
  {
   "cell_type": "code",
   "execution_count": 3,
   "metadata": {},
   "outputs": [
    {
     "name": "stdout",
     "output_type": "stream",
     "text": [
      "[108, 36]\n"
     ]
    },
    {
     "data": {
      "text/plain": [
       "6768.0"
      ]
     },
     "execution_count": 3,
     "metadata": {},
     "output_type": "execute_result"
    }
   ],
   "source": [
    "new_M = hf.matrix(matrix_list=None,empty_x=M.dimension[0],empty_y=M.dimension[1])\n",
    "starting_pos = M.find('S')[0]\n",
    "\n",
    "\n",
    "current_cell = tuple(starting_pos)\n",
    "print(starting_pos)\n",
    "s_not_found = True\n",
    "last_dir = None\n",
    "visited = []\n",
    "i=0\n",
    "\n",
    "while s_not_found:\n",
    "    i+=1\n",
    "    next_cell_list = M.get_neighbor_content(*current_cell)\n",
    "    for next_cell in next_cell_list:\n",
    "        if next_cell['coord'] not in visited:\n",
    "            x_nxt,y_nxt = next_cell['coord']\n",
    "            x_cur,y_cur = current_cell\n",
    "\n",
    "            dir_vect = [x_nxt-x_cur,y_nxt-y_cur]\n",
    "            direction = [x[0] for x in direc.items() if x[1] == dir_vect][0]\n",
    "            anti_dir = anti_dir_dict[direction]\n",
    "            #print(current_cell, next_cell['coord'],dir_vect,direction,anti_dir)\n",
    "\n",
    "            if pipe_dict[M.get_cell(x_cur,y_cur)][direction] == 'p':\n",
    "                if pipe_dict[M.get_cell(x_nxt,y_nxt)][anti_dir] == 'p':\n",
    "                    if next_cell != starting_pos:\n",
    "                        visited.append(next_cell['coord'])\n",
    "                        \n",
    "                    current_cell = list(next_cell['coord'])\n",
    "\n",
    "                    if M.get_cell(*current_cell) == 'S': \n",
    "                        s_not_found = False\n",
    "                    new_M.set_cell(*current_cell,M.get_cell(*current_cell))\n",
    "                    #part2:\n",
    "                    # inflex_dir = [direc[direction][1],direc[direction][0]]\n",
    "                    # inflex_cell = hf.vector_op(current_cell,inflex_dir,'+')\n",
    "                    # if new_M.get_cell(*inflex_cell) !='#':\n",
    "                    #     new_M.set_cell(*inflex_cell,'O')\n",
    "\n",
    "                    break\n",
    "len(visited)/2 \n",
    "\n",
    "#13536 too high\n"
   ]
  },
  {
   "cell_type": "code",
   "execution_count": 4,
   "metadata": {},
   "outputs": [],
   "source": [
    "#part_2:\n",
    "\n",
    "#flood fill algo:\n",
    "\n",
    "def flood_fill(matrix:hf.matrix,x,y,string:str):\n",
    "    visited = set()\n",
    "    queue = [(x,y)]\n",
    "    while len(queue)>0:\n",
    "        if queue[0] not in visited:\n",
    "            if matrix.get_cell(*queue[0]) in ('.'):\n",
    "                matrix.set_cell(*queue[0],string)\n",
    "            coords = [i['coord'] for i in matrix.get_neighbor_content(*queue[0],diagonal=True) if i['content'] == '.']\n",
    "            queue+=coords\n",
    "            x = queue.pop(0)\n",
    "            visited.add(x)\n",
    "        else:\n",
    "            queue.pop(0)\n",
    "        \n",
    "    # if len(visited)>1000:\n",
    "    #     visited.pop(0)\n",
    "\n",
    "# flood_fill(new_M,0,0,'X')\n",
    "# flood_fill(new_M,*hf.vector_op(new_M.dimension,[-1,-1],'+'),'X')\n",
    "\n",
    "# len(new_M.find('.'))\n",
    "\n",
    "#602 too high -- the answer has to be lower than 602\n",
    "#584 not right\n",
    "#245 too low"
   ]
  },
  {
   "cell_type": "code",
   "execution_count": 5,
   "metadata": {},
   "outputs": [],
   "source": [
    "expansion = {'|':[['.','#','.'],['.','#','.'],['.','#','.']],\n",
    "    'L':[['.','#','.'],['.','#','#'],['.','.','.']],\n",
    "    'J':[['.','#','.'],['#','#','.'],['.','.','.']],\n",
    "    '7':[['.','.','.'],['#','#','.'],['.','#','.']],\n",
    "    'F':[['.','.','.'],['.','#','#'],['.','#','.']],\n",
    "    '.':[['.','#','#'],['.','#','.'],['.','#','.']],\n",
    "    '-':[['.','.','.'],['#','#','#'],['.','.','.']],\n",
    "    'S':[['#','#','#'],['#','#','#'],['#','#','#']],\n",
    "    '.':[['.','.','.'],['.','.','.'],['.','.','.']]}\n",
    "\n",
    "\n",
    "mega_matrix = []\n",
    "for i in new_M.matrix:\n",
    "    megaleaf1 = []\n",
    "    megaleaf2 = []\n",
    "    megaleaf3 = []\n",
    "    for j in i:\n",
    "        z = expansion[j]\n",
    "        megaleaf1+=z[0]\n",
    "        megaleaf2+=z[1]\n",
    "        megaleaf3+=z[2]\n",
    "    mega_matrix.append(megaleaf1)\n",
    "    mega_matrix.append(megaleaf2)\n",
    "    mega_matrix.append(megaleaf3)\n",
    "\n",
    "\n",
    "\n",
    "MegaM = hf.matrix(mega_matrix)\n",
    "\n",
    "# test = []\n",
    "\n",
    "# for i in MegaM.matrix:\n",
    "#     test.append(''.join([''.join(x[0]) for x in i]))\n",
    "\n",
    "# print('\\n'.join([''.join(x) for x in test]))"
   ]
  },
  {
   "cell_type": "code",
   "execution_count": 6,
   "metadata": {},
   "outputs": [],
   "source": [
    "flood_fill(MegaM,0,0,'X')"
   ]
  },
  {
   "cell_type": "code",
   "execution_count": 7,
   "metadata": {},
   "outputs": [
    {
     "name": "stdout",
     "output_type": "stream",
     "text": [
      "351\n"
     ]
    }
   ],
   "source": [
    "count =0\n",
    "for i in range(0,len(MegaM.matrix),3):\n",
    "    for j in range(0,len(MegaM.matrix),3):\n",
    "        if ''.join(MegaM.matrix[i][j-3:j]) == '...':\n",
    "            if ''.join(MegaM.matrix[i+1][j-3:j]) == '...':\n",
    "                    if ''.join(MegaM.matrix[i+1][j-3:j]) == '...':\n",
    "                         count+=1\n",
    "\n",
    "print(count)"
   ]
  }
 ],
 "metadata": {
  "kernelspec": {
   "display_name": "probenv",
   "language": "python",
   "name": "python3"
  },
  "language_info": {
   "codemirror_mode": {
    "name": "ipython",
    "version": 3
   },
   "file_extension": ".py",
   "mimetype": "text/x-python",
   "name": "python",
   "nbconvert_exporter": "python",
   "pygments_lexer": "ipython3",
   "version": "3.11.3"
  }
 },
 "nbformat": 4,
 "nbformat_minor": 2
}
