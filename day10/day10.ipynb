{
 "cells": [
  {
   "cell_type": "code",
   "execution_count": 1,
   "metadata": {},
   "outputs": [],
   "source": [
    "import sys\n",
    "import os\n",
    "\n",
    "__file__ = 'helper_funcs.py'\n",
    "file_path = os.path.abspath(os.path.join(os.path.dirname( __file__ ), '..'))\n",
    "sys.path.append(file_path)\n",
    "\n",
    "import helper_funcs as hf\n"
   ]
  },
  {
   "cell_type": "code",
   "execution_count": 3,
   "metadata": {},
   "outputs": [
    {
     "data": {
      "text/plain": [
       "['.....', '.F-7.', '.|.|.', '.L-J.', '.....']"
      ]
     },
     "execution_count": 3,
     "metadata": {},
     "output_type": "execute_result"
    }
   ],
   "source": [
    "raw_input = '''.....\n",
    ".F-7.\n",
    ".|.|.\n",
    ".L-J.\n",
    ".....'''\n",
    "\n",
    "mod_input = hf.modify_raw(raw_input)\n",
    "mod_input"
   ]
  },
  {
   "cell_type": "code",
   "execution_count": 21,
   "metadata": {},
   "outputs": [
    {
     "ename": "TypeError",
     "evalue": "'<' not supported between instances of 'tuple' and 'int'",
     "output_type": "error",
     "traceback": [
      "\u001b[0;31m---------------------------------------------------------------------------\u001b[0m",
      "\u001b[0;31mTypeError\u001b[0m                                 Traceback (most recent call last)",
      "\u001b[1;32m/Users/samuellederer/Documents/python_dir/AdventOfCode2023/day10/day10.ipynb Cell 3\u001b[0m line \u001b[0;36m4\n\u001b[1;32m     <a href='vscode-notebook-cell:/Users/samuellederer/Documents/python_dir/AdventOfCode2023/day10/day10.ipynb#X10sZmlsZQ%3D%3D?line=44'>45</a>\u001b[0m \u001b[39mfor\u001b[39;00m y \u001b[39min\u001b[39;00m \u001b[39mrange\u001b[39m(dim[\u001b[39m1\u001b[39m]):\n\u001b[1;32m     <a href='vscode-notebook-cell:/Users/samuellederer/Documents/python_dir/AdventOfCode2023/day10/day10.ipynb#X10sZmlsZQ%3D%3D?line=45'>46</a>\u001b[0m     \u001b[39mfor\u001b[39;00m x \u001b[39min\u001b[39;00m \u001b[39mrange\u001b[39m(dim[\u001b[39m0\u001b[39m]):\n\u001b[0;32m---> <a href='vscode-notebook-cell:/Users/samuellederer/Documents/python_dir/AdventOfCode2023/day10/day10.ipynb#X10sZmlsZQ%3D%3D?line=46'>47</a>\u001b[0m         \u001b[39mfor\u001b[39;00m i \u001b[39min\u001b[39;00m clamp(mod_input,neighbors((x,y))):\n\u001b[1;32m     <a href='vscode-notebook-cell:/Users/samuellederer/Documents/python_dir/AdventOfCode2023/day10/day10.ipynb#X10sZmlsZQ%3D%3D?line=47'>48</a>\u001b[0m             \u001b[39mfor\u001b[39;00m j \u001b[39min\u001b[39;00m (\u001b[39m'\u001b[39m\u001b[39mn\u001b[39m\u001b[39m'\u001b[39m,\u001b[39m'\u001b[39m\u001b[39me\u001b[39m\u001b[39m'\u001b[39m,\u001b[39m'\u001b[39m\u001b[39ms\u001b[39m\u001b[39m'\u001b[39m,\u001b[39m'\u001b[39m\u001b[39mw\u001b[39m\u001b[39m'\u001b[39m):\n\u001b[1;32m     <a href='vscode-notebook-cell:/Users/samuellederer/Documents/python_dir/AdventOfCode2023/day10/day10.ipynb#X10sZmlsZQ%3D%3D?line=48'>49</a>\u001b[0m                 \u001b[39mpass\u001b[39;00m\n",
      "\u001b[1;32m/Users/samuellederer/Documents/python_dir/AdventOfCode2023/day10/day10.ipynb Cell 3\u001b[0m line \u001b[0;36m2\n\u001b[1;32m     <a href='vscode-notebook-cell:/Users/samuellederer/Documents/python_dir/AdventOfCode2023/day10/day10.ipynb#X10sZmlsZQ%3D%3D?line=17'>18</a>\u001b[0m \u001b[39mdef\u001b[39;00m \u001b[39mclamp\u001b[39m(matrix:\u001b[39mlist\u001b[39m,coord:\u001b[39mtuple\u001b[39m)\u001b[39m-\u001b[39m\u001b[39m>\u001b[39m\u001b[39mbool\u001b[39m:\n\u001b[1;32m     <a href='vscode-notebook-cell:/Users/samuellederer/Documents/python_dir/AdventOfCode2023/day10/day10.ipynb#X10sZmlsZQ%3D%3D?line=18'>19</a>\u001b[0m     \u001b[39m#mchecks the coordinate to make sure it's within the dim of the matrix, returns false of it's outside\u001b[39;00m\n\u001b[1;32m     <a href='vscode-notebook-cell:/Users/samuellederer/Documents/python_dir/AdventOfCode2023/day10/day10.ipynb#X10sZmlsZQ%3D%3D?line=19'>20</a>\u001b[0m     dim \u001b[39m=\u001b[39m get_dim(matrix)\n\u001b[0;32m---> <a href='vscode-notebook-cell:/Users/samuellederer/Documents/python_dir/AdventOfCode2023/day10/day10.ipynb#X10sZmlsZQ%3D%3D?line=20'>21</a>\u001b[0m     \u001b[39mif\u001b[39;00m (coord[\u001b[39m0\u001b[39;49m]\u001b[39m<\u001b[39;49m \u001b[39m0\u001b[39;49m) \u001b[39mor\u001b[39;00m (coord[\u001b[39m0\u001b[39m]\u001b[39m>\u001b[39mdim[\u001b[39m0\u001b[39m]\u001b[39m-\u001b[39m\u001b[39m1\u001b[39m) \u001b[39mor\u001b[39;00m (coord[\u001b[39m1\u001b[39m]\u001b[39m<\u001b[39m\u001b[39m0\u001b[39m) \u001b[39mor\u001b[39;00m (coord[\u001b[39m1\u001b[39m]\u001b[39m>\u001b[39mdim[\u001b[39m1\u001b[39m]\u001b[39m-\u001b[39m\u001b[39m1\u001b[39m):\n\u001b[1;32m     <a href='vscode-notebook-cell:/Users/samuellederer/Documents/python_dir/AdventOfCode2023/day10/day10.ipynb#X10sZmlsZQ%3D%3D?line=21'>22</a>\u001b[0m         \u001b[39mreturn\u001b[39;00m \u001b[39mFalse\u001b[39;00m\n\u001b[1;32m     <a href='vscode-notebook-cell:/Users/samuellederer/Documents/python_dir/AdventOfCode2023/day10/day10.ipynb#X10sZmlsZQ%3D%3D?line=22'>23</a>\u001b[0m     \u001b[39melse\u001b[39;00m:\n",
      "\u001b[0;31mTypeError\u001b[0m: '<' not supported between instances of 'tuple' and 'int'"
     ]
    }
   ],
   "source": [
    "pipe_dict = {\n",
    "    '|':{'n':'p','e':'x','s':'p','w':'x'},\n",
    "    'L':{'n':'p','e':'p','s':'x','w':'x'},\n",
    "    '|':{'n':'p','e':'x','s':'p','w':'x'},\n",
    "    'J':{'n':'p','e':'x','s':'p','w':'p'},\n",
    "    '7':{'n':'x','e':'x','s':'p','w':'p'},\n",
    "    'F':{'n':'x','e':'p','s':'p','w':'x'},\n",
    "    '.':{'n':'x','e':'x','s':'x','w':'x'},\n",
    "    '-':{'n':'x','e':'p','s':'x','w':'p'}\n",
    "}\n",
    "\n",
    "anti_dir = {'n':'s','e':'w','s':'n','w':'e'}\n",
    "\n",
    "def get_dim(matrix:list) -> tuple:\n",
    "    #returns the dimensions of a matrix\n",
    "    return (len(matrix[0]),len(matrix))\n",
    "\n",
    "def clamp(matrix:list,coord:tuple)->bool:\n",
    "    #mchecks the coordinate to make sure it's within the dim of the matrix, returns false of it's outside\n",
    "    dim = get_dim(matrix)\n",
    "    if (coord[0]< 0) or (coord[0]>dim[0]-1) or (coord[1]<0) or (coord[1]>dim[1]-1):\n",
    "        return False\n",
    "    else:\n",
    "        return True\n",
    "\n",
    "def neighbors(coor:tuple) -> list:\n",
    "    #finds the neighbors of a cell including diagonal\n",
    "    coords = []\n",
    "    for i in [-1,0,1]:\n",
    "        for j in [-1,0,1]:\n",
    "            if (i==j): #omit original value\n",
    "                pass\n",
    "            else:\n",
    "                coords.append((coor[0]+i,coor[1]+j))\n",
    "    return coords\n",
    "\n",
    "def find_cell(matrix:list,coor:tuple) -> str:\n",
    "    #finds the value of a cell\n",
    "    x = coor[0]\n",
    "    y = coor[1]\n",
    "    return matrix[y][x]\n",
    "\n",
    "dim = get_dim(mod_input)\n",
    "\n",
    "for y in range(dim[1]):\n",
    "    for x in range(dim[0]):\n",
    "        for i in clamp(mod_input,neighbors((x,y))):\n",
    "            for j in ('n','e','s','w'):\n",
    "                pass\n",
    "\n",
    "\n",
    "\n",
    "            \n"
   ]
  },
  {
   "cell_type": "code",
   "execution_count": 16,
   "metadata": {},
   "outputs": [
    {
     "data": {
      "text/plain": [
       "[(0, 0), (0, 1), (0, 2), (1, 0), (1, 2), (2, 0), (2, 1), (2, 2)]"
      ]
     },
     "execution_count": 16,
     "metadata": {},
     "output_type": "execute_result"
    }
   ],
   "source": [
    "neighbors((1,1))"
   ]
  }
 ],
 "metadata": {
  "kernelspec": {
   "display_name": "probenv",
   "language": "python",
   "name": "python3"
  },
  "language_info": {
   "codemirror_mode": {
    "name": "ipython",
    "version": 3
   },
   "file_extension": ".py",
   "mimetype": "text/x-python",
   "name": "python",
   "nbconvert_exporter": "python",
   "pygments_lexer": "ipython3",
   "version": "3.9.6"
  }
 },
 "nbformat": 4,
 "nbformat_minor": 2
}
