{
 "cells": [
  {
   "cell_type": "code",
   "execution_count": 3,
   "metadata": {},
   "outputs": [],
   "source": [
    "import sys\n",
    "import os\n",
    "\n",
    "__file__ = 'helper_funcs.py'\n",
    "file_path = os.path.abspath(os.path.join(os.path.dirname( __file__ ), '..'))\n",
    "sys.path.append(file_path)\n",
    "\n",
    "import helper_funcs as hf\n"
   ]
  },
  {
   "cell_type": "code",
   "execution_count": 78,
   "metadata": {},
   "outputs": [
    {
     "data": {
      "text/plain": [
       "['..F7.', '.FJ|.', 'FJ.L7', '|F--J', 'LJ...']"
      ]
     },
     "execution_count": 78,
     "metadata": {},
     "output_type": "execute_result"
    }
   ],
   "source": [
    "# raw_input = '''.....\n",
    "# .F-7.\n",
    "# .|.|.\n",
    "# .L-J.\n",
    "# .....'''\n",
    "\n",
    "raw_input = '''\n",
    "..F7.\n",
    ".FJ|.\n",
    "FJ.L7\n",
    "|F--J\n",
    "LJ...'''\n",
    "\n",
    "mod_input = hf.modify_raw(raw_input)\n",
    "mod_input"
   ]
  },
  {
   "cell_type": "code",
   "execution_count": 88,
   "metadata": {},
   "outputs": [
    {
     "name": "stdout",
     "output_type": "stream",
     "text": [
      "..F7.\n",
      ".FJ|.\n",
      "FJ.L.\n",
      "|F--.\n",
      "LJ...\n"
     ]
    }
   ],
   "source": [
    "pipe_dict = {\n",
    "    '|':{'n':'p','e':'x','s':'p','w':'x'},\n",
    "    'L':{'n':'p','e':'p','s':'x','w':'x'},\n",
    "    '|':{'n':'p','e':'x','s':'p','w':'x'},\n",
    "    'J':{'n':'p','e':'x','s':'p','w':'p'},\n",
    "    '7':{'n':'x','e':'x','s':'p','w':'p'},\n",
    "    'F':{'n':'x','e':'p','s':'p','w':'x'},\n",
    "    '.':{'n':'x','e':'x','s':'x','w':'x'},\n",
    "    '-':{'n':'x','e':'p','s':'x','w':'p'}\n",
    "}\n",
    "\n",
    "anti_dir = {'n':'s','e':'w','s':'n','w':'e'}\n",
    "\n",
    "def get_dim(matrix:list) -> tuple:\n",
    "    #returns the dimensions of a matrix\n",
    "    return (len(matrix[0]),len(matrix))\n",
    "\n",
    "def clamp(matrix:list,coord:tuple)->bool:\n",
    "    #mchecks the coordinate to make sure it's within the dim of the matrix, returns false of it's outside\n",
    "    dim = get_dim(matrix)\n",
    "    if (coord[0]< 0) or (coord[0]>dim[0]-1) or (coord[1]<0) or (coord[1]>dim[1]-1):\n",
    "        return False\n",
    "    else:\n",
    "        return True\n",
    "\n",
    "def neighbors(coor:tuple) -> list:\n",
    "    #finds the neighbors of a cell including diagonal\n",
    "    coords = []\n",
    "    for i in [-1,0,1]:\n",
    "        for j in [-1,0,1]:\n",
    "            if abs(i)+abs(j)==1:\n",
    "                coords.append((coor[0]+i,coor[1]+j))\n",
    "    return coords\n",
    "\n",
    "def find_cell(matrix:list,coor:tuple) -> str:\n",
    "    #finds the value of a cell\n",
    "    x = coor[0]\n",
    "    y = coor[1]\n",
    "    return matrix[y][x]\n",
    "\n",
    "def get_neigh_dir(point:tuple,neighbor:tuple):\n",
    "    dir_diction = {(1,0):'e',(-1,0):'w',(0,1):'n',(0,-1):'s'}\n",
    "    dist = ((neighbor[0] - point[0]),(neighbor[1]-point[1]))\n",
    "    \n",
    "    return dir_diction[dist]\n",
    "\n",
    "\n",
    "\n",
    "get_neigh_dir((1,2),(2,2))\n",
    "\n",
    "\n",
    "dim = get_dim(mod_input)\n",
    "\n",
    "final_input = []\n",
    "\n",
    "for y in range(dim[1]):\n",
    "    leaf = []\n",
    "    for x in range(dim[0]):\n",
    "        n = neighbors((x,y))\n",
    "        check = 0\n",
    "        neighbor_len = len([x for x in n if clamp(mod_input,x)])\n",
    "        for i in n: #get each neighbor of a cell\n",
    "            if clamp(mod_input,i): # make sure that the neighbor is within the cell\n",
    "                neighbor_x = i[0]\n",
    "                neighbor_y = i[1]\n",
    "\n",
    "\n",
    "\n",
    "                d = get_neigh_dir((x,y),(neighbor_x,neighbor_y)) #get the direction of the neighbor\n",
    "\n",
    "\n",
    "                check += 1 #we have checked a cell\n",
    "\n",
    "                if pipe_dict[mod_input[y][x]][d] == pipe_dict[mod_input[neighbor_y][neighbor_x]][anti_dir[d]]: #current cell direction == neighbor cell anti_direction\n",
    "                    if check == neighbor_len: #write once we have checked all cells\n",
    "                        if mod_input[y][x] == '.':\n",
    "                            leaf.append('.')\n",
    "                        else:\n",
    "                            leaf.append(mod_input[y][x])\n",
    "               \n",
    "                elif check == neighbor_len:\n",
    "                    leaf.append('.')\n",
    "                else:\n",
    "                    next\n",
    "\n",
    "                \n",
    "\n",
    "    final_input.append(''.join(leaf))\n",
    "\n",
    "print('\\n'.join(final_input)) \n",
    "\n",
    "\n"
   ]
  }
 ],
 "metadata": {
  "kernelspec": {
   "display_name": "probenv",
   "language": "python",
   "name": "python3"
  },
  "language_info": {
   "codemirror_mode": {
    "name": "ipython",
    "version": 3
   },
   "file_extension": ".py",
   "mimetype": "text/x-python",
   "name": "python",
   "nbconvert_exporter": "python",
   "pygments_lexer": "ipython3",
   "version": "3.11.3"
  }
 },
 "nbformat": 4,
 "nbformat_minor": 2
}
