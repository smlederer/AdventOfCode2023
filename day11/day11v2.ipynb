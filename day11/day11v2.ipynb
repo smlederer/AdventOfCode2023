{
 "cells": [
  {
   "cell_type": "code",
   "execution_count": 2,
   "metadata": {},
   "outputs": [],
   "source": [
    "import sys\n",
    "import os\n",
    "\n",
    "__file__ = 'helper_funcs.py'\n",
    "file_path = os.path.abspath(os.path.join(os.path.dirname( __file__ ), '..'))\n",
    "sys.path.append(file_path)\n",
    "\n",
    "import helper_funcs as hf\n"
   ]
  },
  {
   "cell_type": "code",
   "execution_count": 4,
   "metadata": {},
   "outputs": [
    {
     "name": "stdout",
     "output_type": "stream",
     "text": [
      "part1: 9627977 total distance\n",
      "part2: 644248339497 total distance\n"
     ]
    }
   ],
   "source": [
    "# raw_input = '''...#......\n",
    "# .......#..\n",
    "# #.........\n",
    "# ..........\n",
    "# ......#...\n",
    "# .#........\n",
    "# .........#\n",
    "# ..........\n",
    "# .......#..\n",
    "# #...#.....'''\n",
    "\n",
    "raw_input = hf.read_file('input.txt')\n",
    "\n",
    "mod_input = hf.modify_raw(raw_input)\n",
    "\n",
    "def find_expanse(input:list)->list:\n",
    "    #horizontal\n",
    "    vert = []\n",
    "    hor = []\n",
    "    for n,i in enumerate(input): \n",
    "        if all(v=='.' for v in i):\n",
    "            hor.append(n)\n",
    "    #vertical\n",
    "    for i in range(len(input[0])):\n",
    "        tmp = []\n",
    "        for j in input:\n",
    "            tmp.append(j[i])\n",
    "        \n",
    "        if all(q=='.' for q in tmp):\n",
    "            vert.append(i)\n",
    "\n",
    "    return [hor,vert]\n",
    "\n",
    "\n",
    "def find_galaxies(map:list)->list:\n",
    "    galaxy_coors = []\n",
    "    for i in range(len(map[0])):\n",
    "        for j in range(len(map)):\n",
    "            coor = (i,j)\n",
    "            if map[j][i] == '#':\n",
    "                galaxy_coors.append(coor)\n",
    "    return galaxy_coors\n",
    "\n",
    "\n",
    "def distance(c1:tuple,c2:tuple):\n",
    "    dist = 0\n",
    "    for i in range(len(c1)):\n",
    "        dist += abs(c2[i] - c1[i])\n",
    "    return dist\n",
    "\n",
    "\n",
    "def total_distance(coords):\n",
    "    lengths = {}\n",
    "    for i in coords:\n",
    "        for j in coords:\n",
    "            if i != j:\n",
    "                v = distance(i,j)\n",
    "                lengths.setdefault(''.join(sorted([str(i),str(j)])),v)\n",
    "    return sum(lengths.values())\n",
    "\n",
    "expanse_coef_p1 = 2\n",
    "vert, horiz = find_expanse(mod_input)\n",
    "expanse_coords_p1 = []\n",
    "for i in find_galaxies(mod_input):\n",
    "    expanse_coords_p1.append((i[0]+(sum(v==True for v in [i[0]>j for j in horiz])*(expanse_coef_p1-1)),i[1]+(sum(v==True for v in [i[1]>j for j in vert])*(expanse_coef_p1-1))))\n",
    "\n",
    "expanse_coef_p2 = 1000000\n",
    "vert, horiz = find_expanse(mod_input)\n",
    "expanse_coords_p2 = []\n",
    "for i in find_galaxies(mod_input):\n",
    "    expanse_coords_p2.append((i[0]+(sum(v==True for v in [i[0]>j for j in horiz])*(expanse_coef_p2-1)),i[1]+(sum(v==True for v in [i[1]>j for j in vert])*(expanse_coef_p2-1))))\n",
    "\n",
    "print(f'part1: {total_distance(expanse_coords_p1)} total distance')\n",
    "print(f'part2: {total_distance(expanse_coords_p2)} total distance')"
   ]
  }
 ],
 "metadata": {
  "kernelspec": {
   "display_name": "env",
   "language": "python",
   "name": "python3"
  },
  "language_info": {
   "codemirror_mode": {
    "name": "ipython",
    "version": 3
   },
   "file_extension": ".py",
   "mimetype": "text/x-python",
   "name": "python",
   "nbconvert_exporter": "python",
   "pygments_lexer": "ipython3",
   "version": "3.11.3"
  }
 },
 "nbformat": 4,
 "nbformat_minor": 2
}
